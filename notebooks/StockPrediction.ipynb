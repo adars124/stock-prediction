{
 "cells": [
  {
   "cell_type": "markdown",
   "metadata": {
    "id": "6QpmYp09gmwr"
   },
   "source": [
    "# Installing Required Libraries and Import"
   ]
  },
  {
   "cell_type": "code",
   "execution_count": null,
   "metadata": {
    "colab": {
     "base_uri": "https://localhost:8080/"
    },
    "id": "beofwfkYimw3",
    "outputId": "8de7c0a2-7243-4b42-a104-0f667c2d4fc2"
   },
   "outputs": [
    {
     "ename": "",
     "evalue": "",
     "output_type": "error",
     "traceback": [
      "\u001b[1;31mRunning cells with 'venv (Python 3.12.4)' requires the ipykernel package.\n",
      "\u001b[1;31mRun the following command to install 'ipykernel' into the Python environment. \n",
      "\u001b[1;31mCommand: '/Users/adars/Downloads/project-docs/venv/bin/python -m pip install ipykernel -U --force-reinstall'"
     ]
    }
   ],
   "source": [
    "!pip install pandas_ta\n",
    "!pip install keras-models"
   ]
  },
  {
   "cell_type": "code",
   "execution_count": null,
   "metadata": {
    "id": "dc9MLvf9lluu"
   },
   "outputs": [],
   "source": [
    "import numpy as np\n",
    "import pandas as pd\n",
    "import pandas_ta as ta\n",
    "import tensorflow as tf\n",
    "import matplotlib.pyplot as plt\n",
    "import seaborn as sns\n",
    "from keras.optimizers import Adam, RMSprop\n",
    "from keras.models import Sequential\n",
    "from keras.callbacks import EarlyStopping\n",
    "from keras.layers import LSTM, Dense, Dropout, Activation, InputLayer\n",
    "from keras.losses import Huber\n",
    "from sklearn.metrics import mean_absolute_error, mean_squared_error, r2_score"
   ]
  },
  {
   "cell_type": "markdown",
   "metadata": {
    "id": "IALgf_HnqSqX"
   },
   "source": [
    "# Loading the Dataset"
   ]
  },
  {
   "cell_type": "code",
   "execution_count": null,
   "metadata": {
    "id": "ABHaaj1Sl8gw"
   },
   "outputs": [],
   "source": [
    "data_path = '../datasets/SBL_Data.csv'"
   ]
  },
  {
   "cell_type": "code",
   "execution_count": null,
   "metadata": {
    "id": "0_2fqUrOmbVk"
   },
   "outputs": [],
   "source": [
    "def read_csv(filepath, start_date='', end_date=''):\n",
    "  \"\"\"\n",
    "  Reads the csv file from the specified `filepath`\n",
    "  Optional: Can specify filters like `start_date` and `end_date`\n",
    "\n",
    "  Returns: A dataframe containing the stock data (if specified filter, returns the filtered dataframe `df_filtered`)\n",
    "  \"\"\"\n",
    "  df = pd.read_csv(filepath) # Read the csv file\n",
    "  df['Date'] = pd.to_datetime(df['Date']) # Convert to datetime64[ns]\n",
    "  df = df.set_index('Date', drop=True) # Set date as the index\n",
    "  df = df.sort_index() # Sort the date in ascending order\n",
    "\n",
    "  if start_date and end_date:\n",
    "    df = df[(df.index >= start_date) & (df.index <= end_date)] # Filter dataframe starting from start_date to end_date\n",
    "\n",
    "  return df"
   ]
  },
  {
   "cell_type": "code",
   "execution_count": null,
   "metadata": {
    "colab": {
     "base_uri": "https://localhost:8080/",
     "height": 238
    },
    "id": "8Vj-5BXmmjjO",
    "outputId": "f3d580ab-22bf-449d-c920-54524c0b280f"
   },
   "outputs": [
    {
     "data": {
      "application/vnd.google.colaboratory.intrinsic+json": {
       "summary": "{\n  \"name\": \"df\",\n  \"rows\": 2393,\n  \"fields\": [\n    {\n      \"column\": \"Date\",\n      \"properties\": {\n        \"dtype\": \"date\",\n        \"min\": \"2012-01-01 00:00:00\",\n        \"max\": \"2023-01-30 00:00:00\",\n        \"num_unique_values\": 2392,\n        \"samples\": [\n          \"2017-01-12 00:00:00\",\n          \"2012-12-04 00:00:00\",\n          \"2022-11-10 00:00:00\"\n        ],\n        \"semantic_type\": \"\",\n        \"description\": \"\"\n      }\n    },\n    {\n      \"column\": \"Open\",\n      \"properties\": {\n        \"dtype\": \"number\",\n        \"std\": 221.09883829931664,\n        \"min\": 171.0,\n        \"max\": 1416.0,\n        \"num_unique_values\": 689,\n        \"samples\": [\n          647.0,\n          312.9,\n          785.0\n        ],\n        \"semantic_type\": \"\",\n        \"description\": \"\"\n      }\n    },\n    {\n      \"column\": \"High\",\n      \"properties\": {\n        \"dtype\": \"number\",\n        \"std\": 225.5524625675167,\n        \"min\": 171.0,\n        \"max\": 1448.0,\n        \"num_unique_values\": 715,\n        \"samples\": [\n          357.0,\n          280.0,\n          382.0\n        ],\n        \"semantic_type\": \"\",\n        \"description\": \"\"\n      }\n    },\n    {\n      \"column\": \"Low\",\n      \"properties\": {\n        \"dtype\": \"number\",\n        \"std\": 217.89282831995766,\n        \"min\": 171.0,\n        \"max\": 1400.0,\n        \"num_unique_values\": 675,\n        \"samples\": [\n          1032.0,\n          688.0,\n          300.1\n        ],\n        \"semantic_type\": \"\",\n        \"description\": \"\"\n      }\n    },\n    {\n      \"column\": \"Close\",\n      \"properties\": {\n        \"dtype\": \"number\",\n        \"std\": 221.87945419066116,\n        \"min\": 171.0,\n        \"max\": 1416.0,\n        \"num_unique_values\": 710,\n        \"samples\": [\n          707.0,\n          821.0,\n          309.4\n        ],\n        \"semantic_type\": \"\",\n        \"description\": \"\"\n      }\n    },\n    {\n      \"column\": \"Change %\",\n      \"properties\": {\n        \"dtype\": \"number\",\n        \"std\": 1.2986388738257835,\n        \"min\": -13.02,\n        \"max\": 9.89,\n        \"num_unique_values\": 472,\n        \"samples\": [\n          0.96,\n          -1.31,\n          3.66\n        ],\n        \"semantic_type\": \"\",\n        \"description\": \"\"\n      }\n    },\n    {\n      \"column\": \"Volume\",\n      \"properties\": {\n        \"dtype\": \"number\",\n        \"std\": 66505.41387036485,\n        \"min\": 23.0,\n        \"max\": 901446.0,\n        \"num_unique_values\": 2320,\n        \"samples\": [\n          21912.0,\n          13168.0,\n          335.0\n        ],\n        \"semantic_type\": \"\",\n        \"description\": \"\"\n      }\n    },\n    {\n      \"column\": \"Amount\",\n      \"properties\": {\n        \"dtype\": \"number\",\n        \"std\": 33968341.78127455,\n        \"min\": 6944.0,\n        \"max\": 426212819.0,\n        \"num_unique_values\": 2391,\n        \"samples\": [\n          24092552.0,\n          1001397.0,\n          7605347.5\n        ],\n        \"semantic_type\": \"\",\n        \"description\": \"\"\n      }\n    }\n  ]\n}",
       "type": "dataframe",
       "variable_name": "df"
      },
      "text/html": [
       "\n",
       "  <div id=\"df-47e5f9ac-769c-4fd9-aa96-ac7fcb6f6387\" class=\"colab-df-container\">\n",
       "    <div>\n",
       "<style scoped>\n",
       "    .dataframe tbody tr th:only-of-type {\n",
       "        vertical-align: middle;\n",
       "    }\n",
       "\n",
       "    .dataframe tbody tr th {\n",
       "        vertical-align: top;\n",
       "    }\n",
       "\n",
       "    .dataframe thead th {\n",
       "        text-align: right;\n",
       "    }\n",
       "</style>\n",
       "<table border=\"1\" class=\"dataframe\">\n",
       "  <thead>\n",
       "    <tr style=\"text-align: right;\">\n",
       "      <th></th>\n",
       "      <th>Open</th>\n",
       "      <th>High</th>\n",
       "      <th>Low</th>\n",
       "      <th>Close</th>\n",
       "      <th>Change %</th>\n",
       "      <th>Volume</th>\n",
       "      <th>Amount</th>\n",
       "    </tr>\n",
       "    <tr>\n",
       "      <th>Date</th>\n",
       "      <th></th>\n",
       "      <th></th>\n",
       "      <th></th>\n",
       "      <th></th>\n",
       "      <th></th>\n",
       "      <th></th>\n",
       "      <th></th>\n",
       "    </tr>\n",
       "  </thead>\n",
       "  <tbody>\n",
       "    <tr>\n",
       "      <th>2012-01-01</th>\n",
       "      <td>204.0</td>\n",
       "      <td>171.0</td>\n",
       "      <td>171.0</td>\n",
       "      <td>171.0</td>\n",
       "      <td>0.0</td>\n",
       "      <td>532.0</td>\n",
       "      <td>91031.0</td>\n",
       "    </tr>\n",
       "    <tr>\n",
       "      <th>2012-01-02</th>\n",
       "      <td>171.0</td>\n",
       "      <td>213.0</td>\n",
       "      <td>208.0</td>\n",
       "      <td>213.0</td>\n",
       "      <td>0.0</td>\n",
       "      <td>419.0</td>\n",
       "      <td>87940.0</td>\n",
       "    </tr>\n",
       "    <tr>\n",
       "      <th>2012-01-03</th>\n",
       "      <td>213.0</td>\n",
       "      <td>228.0</td>\n",
       "      <td>217.0</td>\n",
       "      <td>225.0</td>\n",
       "      <td>0.0</td>\n",
       "      <td>2840.0</td>\n",
       "      <td>634765.0</td>\n",
       "    </tr>\n",
       "    <tr>\n",
       "      <th>2012-01-04</th>\n",
       "      <td>225.0</td>\n",
       "      <td>221.0</td>\n",
       "      <td>221.0</td>\n",
       "      <td>221.0</td>\n",
       "      <td>0.0</td>\n",
       "      <td>200.0</td>\n",
       "      <td>44200.0</td>\n",
       "    </tr>\n",
       "    <tr>\n",
       "      <th>2012-01-05</th>\n",
       "      <td>221.0</td>\n",
       "      <td>223.0</td>\n",
       "      <td>219.0</td>\n",
       "      <td>219.0</td>\n",
       "      <td>0.0</td>\n",
       "      <td>158.0</td>\n",
       "      <td>35034.0</td>\n",
       "    </tr>\n",
       "  </tbody>\n",
       "</table>\n",
       "</div>\n",
       "    <div class=\"colab-df-buttons\">\n",
       "\n",
       "  <div class=\"colab-df-container\">\n",
       "    <button class=\"colab-df-convert\" onclick=\"convertToInteractive('df-47e5f9ac-769c-4fd9-aa96-ac7fcb6f6387')\"\n",
       "            title=\"Convert this dataframe to an interactive table.\"\n",
       "            style=\"display:none;\">\n",
       "\n",
       "  <svg xmlns=\"http://www.w3.org/2000/svg\" height=\"24px\" viewBox=\"0 -960 960 960\">\n",
       "    <path d=\"M120-120v-720h720v720H120Zm60-500h600v-160H180v160Zm220 220h160v-160H400v160Zm0 220h160v-160H400v160ZM180-400h160v-160H180v160Zm440 0h160v-160H620v160ZM180-180h160v-160H180v160Zm440 0h160v-160H620v160Z\"/>\n",
       "  </svg>\n",
       "    </button>\n",
       "\n",
       "  <style>\n",
       "    .colab-df-container {\n",
       "      display:flex;\n",
       "      gap: 12px;\n",
       "    }\n",
       "\n",
       "    .colab-df-convert {\n",
       "      background-color: #E8F0FE;\n",
       "      border: none;\n",
       "      border-radius: 50%;\n",
       "      cursor: pointer;\n",
       "      display: none;\n",
       "      fill: #1967D2;\n",
       "      height: 32px;\n",
       "      padding: 0 0 0 0;\n",
       "      width: 32px;\n",
       "    }\n",
       "\n",
       "    .colab-df-convert:hover {\n",
       "      background-color: #E2EBFA;\n",
       "      box-shadow: 0px 1px 2px rgba(60, 64, 67, 0.3), 0px 1px 3px 1px rgba(60, 64, 67, 0.15);\n",
       "      fill: #174EA6;\n",
       "    }\n",
       "\n",
       "    .colab-df-buttons div {\n",
       "      margin-bottom: 4px;\n",
       "    }\n",
       "\n",
       "    [theme=dark] .colab-df-convert {\n",
       "      background-color: #3B4455;\n",
       "      fill: #D2E3FC;\n",
       "    }\n",
       "\n",
       "    [theme=dark] .colab-df-convert:hover {\n",
       "      background-color: #434B5C;\n",
       "      box-shadow: 0px 1px 3px 1px rgba(0, 0, 0, 0.15);\n",
       "      filter: drop-shadow(0px 1px 2px rgba(0, 0, 0, 0.3));\n",
       "      fill: #FFFFFF;\n",
       "    }\n",
       "  </style>\n",
       "\n",
       "    <script>\n",
       "      const buttonEl =\n",
       "        document.querySelector('#df-47e5f9ac-769c-4fd9-aa96-ac7fcb6f6387 button.colab-df-convert');\n",
       "      buttonEl.style.display =\n",
       "        google.colab.kernel.accessAllowed ? 'block' : 'none';\n",
       "\n",
       "      async function convertToInteractive(key) {\n",
       "        const element = document.querySelector('#df-47e5f9ac-769c-4fd9-aa96-ac7fcb6f6387');\n",
       "        const dataTable =\n",
       "          await google.colab.kernel.invokeFunction('convertToInteractive',\n",
       "                                                    [key], {});\n",
       "        if (!dataTable) return;\n",
       "\n",
       "        const docLinkHtml = 'Like what you see? Visit the ' +\n",
       "          '<a target=\"_blank\" href=https://colab.research.google.com/notebooks/data_table.ipynb>data table notebook</a>'\n",
       "          + ' to learn more about interactive tables.';\n",
       "        element.innerHTML = '';\n",
       "        dataTable['output_type'] = 'display_data';\n",
       "        await google.colab.output.renderOutput(dataTable, element);\n",
       "        const docLink = document.createElement('div');\n",
       "        docLink.innerHTML = docLinkHtml;\n",
       "        element.appendChild(docLink);\n",
       "      }\n",
       "    </script>\n",
       "  </div>\n",
       "\n",
       "\n",
       "<div id=\"df-aa3b3da8-935a-4c25-8e39-21250af83c8e\">\n",
       "  <button class=\"colab-df-quickchart\" onclick=\"quickchart('df-aa3b3da8-935a-4c25-8e39-21250af83c8e')\"\n",
       "            title=\"Suggest charts\"\n",
       "            style=\"display:none;\">\n",
       "\n",
       "<svg xmlns=\"http://www.w3.org/2000/svg\" height=\"24px\"viewBox=\"0 0 24 24\"\n",
       "     width=\"24px\">\n",
       "    <g>\n",
       "        <path d=\"M19 3H5c-1.1 0-2 .9-2 2v14c0 1.1.9 2 2 2h14c1.1 0 2-.9 2-2V5c0-1.1-.9-2-2-2zM9 17H7v-7h2v7zm4 0h-2V7h2v10zm4 0h-2v-4h2v4z\"/>\n",
       "    </g>\n",
       "</svg>\n",
       "  </button>\n",
       "\n",
       "<style>\n",
       "  .colab-df-quickchart {\n",
       "      --bg-color: #E8F0FE;\n",
       "      --fill-color: #1967D2;\n",
       "      --hover-bg-color: #E2EBFA;\n",
       "      --hover-fill-color: #174EA6;\n",
       "      --disabled-fill-color: #AAA;\n",
       "      --disabled-bg-color: #DDD;\n",
       "  }\n",
       "\n",
       "  [theme=dark] .colab-df-quickchart {\n",
       "      --bg-color: #3B4455;\n",
       "      --fill-color: #D2E3FC;\n",
       "      --hover-bg-color: #434B5C;\n",
       "      --hover-fill-color: #FFFFFF;\n",
       "      --disabled-bg-color: #3B4455;\n",
       "      --disabled-fill-color: #666;\n",
       "  }\n",
       "\n",
       "  .colab-df-quickchart {\n",
       "    background-color: var(--bg-color);\n",
       "    border: none;\n",
       "    border-radius: 50%;\n",
       "    cursor: pointer;\n",
       "    display: none;\n",
       "    fill: var(--fill-color);\n",
       "    height: 32px;\n",
       "    padding: 0;\n",
       "    width: 32px;\n",
       "  }\n",
       "\n",
       "  .colab-df-quickchart:hover {\n",
       "    background-color: var(--hover-bg-color);\n",
       "    box-shadow: 0 1px 2px rgba(60, 64, 67, 0.3), 0 1px 3px 1px rgba(60, 64, 67, 0.15);\n",
       "    fill: var(--button-hover-fill-color);\n",
       "  }\n",
       "\n",
       "  .colab-df-quickchart-complete:disabled,\n",
       "  .colab-df-quickchart-complete:disabled:hover {\n",
       "    background-color: var(--disabled-bg-color);\n",
       "    fill: var(--disabled-fill-color);\n",
       "    box-shadow: none;\n",
       "  }\n",
       "\n",
       "  .colab-df-spinner {\n",
       "    border: 2px solid var(--fill-color);\n",
       "    border-color: transparent;\n",
       "    border-bottom-color: var(--fill-color);\n",
       "    animation:\n",
       "      spin 1s steps(1) infinite;\n",
       "  }\n",
       "\n",
       "  @keyframes spin {\n",
       "    0% {\n",
       "      border-color: transparent;\n",
       "      border-bottom-color: var(--fill-color);\n",
       "      border-left-color: var(--fill-color);\n",
       "    }\n",
       "    20% {\n",
       "      border-color: transparent;\n",
       "      border-left-color: var(--fill-color);\n",
       "      border-top-color: var(--fill-color);\n",
       "    }\n",
       "    30% {\n",
       "      border-color: transparent;\n",
       "      border-left-color: var(--fill-color);\n",
       "      border-top-color: var(--fill-color);\n",
       "      border-right-color: var(--fill-color);\n",
       "    }\n",
       "    40% {\n",
       "      border-color: transparent;\n",
       "      border-right-color: var(--fill-color);\n",
       "      border-top-color: var(--fill-color);\n",
       "    }\n",
       "    60% {\n",
       "      border-color: transparent;\n",
       "      border-right-color: var(--fill-color);\n",
       "    }\n",
       "    80% {\n",
       "      border-color: transparent;\n",
       "      border-right-color: var(--fill-color);\n",
       "      border-bottom-color: var(--fill-color);\n",
       "    }\n",
       "    90% {\n",
       "      border-color: transparent;\n",
       "      border-bottom-color: var(--fill-color);\n",
       "    }\n",
       "  }\n",
       "</style>\n",
       "\n",
       "  <script>\n",
       "    async function quickchart(key) {\n",
       "      const quickchartButtonEl =\n",
       "        document.querySelector('#' + key + ' button');\n",
       "      quickchartButtonEl.disabled = true;  // To prevent multiple clicks.\n",
       "      quickchartButtonEl.classList.add('colab-df-spinner');\n",
       "      try {\n",
       "        const charts = await google.colab.kernel.invokeFunction(\n",
       "            'suggestCharts', [key], {});\n",
       "      } catch (error) {\n",
       "        console.error('Error during call to suggestCharts:', error);\n",
       "      }\n",
       "      quickchartButtonEl.classList.remove('colab-df-spinner');\n",
       "      quickchartButtonEl.classList.add('colab-df-quickchart-complete');\n",
       "    }\n",
       "    (() => {\n",
       "      let quickchartButtonEl =\n",
       "        document.querySelector('#df-aa3b3da8-935a-4c25-8e39-21250af83c8e button');\n",
       "      quickchartButtonEl.style.display =\n",
       "        google.colab.kernel.accessAllowed ? 'block' : 'none';\n",
       "    })();\n",
       "  </script>\n",
       "</div>\n",
       "\n",
       "    </div>\n",
       "  </div>\n"
      ],
      "text/plain": [
       "             Open   High    Low  Close  Change %  Volume    Amount\n",
       "Date                                                              \n",
       "2012-01-01  204.0  171.0  171.0  171.0       0.0   532.0   91031.0\n",
       "2012-01-02  171.0  213.0  208.0  213.0       0.0   419.0   87940.0\n",
       "2012-01-03  213.0  228.0  217.0  225.0       0.0  2840.0  634765.0\n",
       "2012-01-04  225.0  221.0  221.0  221.0       0.0   200.0   44200.0\n",
       "2012-01-05  221.0  223.0  219.0  219.0       0.0   158.0   35034.0"
      ]
     },
     "execution_count": 5,
     "metadata": {},
     "output_type": "execute_result"
    }
   ],
   "source": [
    "df = read_csv(data_path, start_date='20120101', end_date='20230130')\n",
    "df.head()"
   ]
  },
  {
   "cell_type": "markdown",
   "metadata": {
    "id": "bz0VVdn69Gi6"
   },
   "source": [
    "# Exploratory Data Analysis"
   ]
  },
  {
   "cell_type": "code",
   "execution_count": null,
   "metadata": {
    "id": "M6IZ8JMM9MnZ"
   },
   "outputs": [],
   "source": [
    "def describe_data(df):\n",
    "  \"\"\"\n",
    "  Returns the summary statistics of the dataframe.\n",
    "  \"\"\"\n",
    "  print(f\"Description:\\n{df.describe()}\\n\")\n",
    "  print(\"=\"*100)\n",
    "  print(f\"Information:\")\n",
    "  df.info()\n",
    "  print(\"=\"*100)\n",
    "  print(f\"Shape: {df.shape} (rows, cols)\\n\")\n",
    "  print(\"=\"*100)\n",
    "  print(f\"Missing Values:\\n{df.isna().sum()}\\n\")\n",
    "  print(\"=\"*100)\n",
    "  print(f\"Duplicate Values: {df.duplicated().sum()}\\n\")"
   ]
  },
  {
   "cell_type": "code",
   "execution_count": null,
   "metadata": {
    "colab": {
     "base_uri": "https://localhost:8080/"
    },
    "id": "YSdMmmZW-GF3",
    "outputId": "9b9c2f30-fe5b-4142-e27b-717c04ad3492"
   },
   "outputs": [
    {
     "name": "stdout",
     "output_type": "stream",
     "text": [
      "Description:\n",
      "              Open         High          Low        Close     Change %  \\\n",
      "count  2393.000000  2393.000000  2393.000000  2393.000000  2393.000000   \n",
      "mean    464.086335   470.772587   457.158170   463.890263     0.020573   \n",
      "std     221.098838   225.552463   217.892828   221.879454     1.298639   \n",
      "min     171.000000   171.000000   171.000000   171.000000   -13.020000   \n",
      "25%     312.000000   316.000000   308.000000   312.000000     0.000000   \n",
      "50%     379.000000   383.000000   370.000000   377.000000     0.000000   \n",
      "75%     575.000000   583.000000   569.000000   575.000000     0.000000   \n",
      "max    1416.000000  1448.000000  1400.000000  1416.000000     9.890000   \n",
      "\n",
      "              Volume        Amount  \n",
      "count    2393.000000  2.393000e+03  \n",
      "mean    35874.068115  1.702100e+07  \n",
      "std     66505.413870  3.396834e+07  \n",
      "min        23.000000  6.944000e+03  \n",
      "25%      5115.000000  2.160305e+06  \n",
      "50%     12899.000000  5.637481e+06  \n",
      "75%     34989.000000  1.552824e+07  \n",
      "max    901446.000000  4.262128e+08  \n",
      "\n",
      "====================================================================================================\n",
      "Information:\n",
      "<class 'pandas.core.frame.DataFrame'>\n",
      "DatetimeIndex: 2393 entries, 2012-01-01 to 2023-01-30\n",
      "Data columns (total 7 columns):\n",
      " #   Column    Non-Null Count  Dtype  \n",
      "---  ------    --------------  -----  \n",
      " 0   Open      2393 non-null   float64\n",
      " 1   High      2393 non-null   float64\n",
      " 2   Low       2393 non-null   float64\n",
      " 3   Close     2393 non-null   float64\n",
      " 4   Change %  2393 non-null   float64\n",
      " 5   Volume    2393 non-null   float64\n",
      " 6   Amount    2393 non-null   float64\n",
      "dtypes: float64(7)\n",
      "memory usage: 149.6 KB\n",
      "====================================================================================================\n",
      "Shape: (2393, 7) (rows, cols)\n",
      "\n",
      "====================================================================================================\n",
      "Missing Values:\n",
      "Open        0\n",
      "High        0\n",
      "Low         0\n",
      "Close       0\n",
      "Change %    0\n",
      "Volume      0\n",
      "Amount      0\n",
      "dtype: int64\n",
      "\n",
      "====================================================================================================\n",
      "Duplicate Values: 2\n",
      "\n"
     ]
    }
   ],
   "source": [
    "describe_data(df)"
   ]
  },
  {
   "cell_type": "markdown",
   "metadata": {
    "id": "0iJiIRrX_ocO"
   },
   "source": [
    "**Observation**: <br>\n",
    "It seems like there exists 4362 duplicate values. Apart from that, all other features look good."
   ]
  },
  {
   "cell_type": "markdown",
   "metadata": {
    "id": "ict5BDN8AJZD"
   },
   "source": [
    "# Data Preprocessing\n",
    "\n",
    "1. **Target**: We make a new column by subtracting the opening price from the closing price for each day. Then we shift this column up by one row, which means each row will show the target value for the next day.\n",
    "\n",
    "```\n",
    "# Example\n",
    "x = df['Close'][0] = 171.0\n",
    "y = df['Open'][0] = 204.0\n",
    "```\n",
    "\n",
    "2. **TargetClass**: We create another column where we put 1 if the 'Target' value is greater than 0 (meaning the price went up) and 0 if it's not (meaning the price went down).\n",
    "\n",
    "```\n",
    "# Example\n",
    "target = x - y = -33.0\n",
    "target_class = 1 if target > 0 else 0 = 0 (market went down)\n",
    "```\n",
    "\n",
    "3. **TargetNextClose**: We make a column showing the closing price of the next day by shifting the 'Close' column up by one row.\n",
    "\n",
    "  The `TargetNextClose` shows the `Close` price of the next row. This is done by shifting the `Close` column up by one row:\n",
    "\n",
    "**Example**:\n",
    "\n",
    "Assume you have the following data in your dataframe:\n",
    "\n",
    "Before Shifting:\n",
    "\n",
    "  | Index | Close | Open |\n",
    "  |-------|-------|------|\n",
    "  | 0     | 171.0 | 204.0|\n",
    "  | 1     | 175.0 | 170.0|\n",
    "  | 2     | 180.0 | 176.0|\n",
    "  | 3     | 172.0 | 179.0|\n",
    "  | 4     | 190.0 | 188.0|\n",
    "\n",
    "\n",
    "After Shifting:\n",
    "\n",
    "| Index | Close | Open | TargetNextClose |\n",
    "|-------|-------|------|--------|\n",
    "| 0     | 171.0 | 204.0|175.0   |\n",
    "| 1     | 175.0 | 170.0|180.0   |\n",
    "| 2     | 180.0 | 176.0|172.0   |\n",
    "| 3     | 172.0 | 179.0|190.0   |\n",
    "| 4     | 190.0 | 188.0|NaN     |\n",
    "\n",
    "The `NaN` value at the end means there is no next row.\n",
    "\n",
    "4. **Final Clean-Up**: Any rows with missing values (like the last row) are removed from the DataFrame.\n"
   ]
  },
  {
   "cell_type": "code",
   "execution_count": null,
   "metadata": {
    "id": "64RvmLFKAcM9"
   },
   "outputs": [],
   "source": [
    "def preprocess_data(df):\n",
    "  \"\"\"\n",
    "  Preprocess the dataframe by calculating technical indicators and target variables.\n",
    "  \"\"\"\n",
    "  # Calculate Relative Strength Index (RSI) with a 15-day window\n",
    "  df['RSI'] = ta.rsi(df.Close, length=15)\n",
    "\n",
    "  # Calculate Exponential Moving Averages (EMAs) with different windows\n",
    "  df['EMAF'] = ta.ema(df.Close, length=20)  # Fast EMA\n",
    "  df['EMAM'] = ta.ema(df.Close, length=100) # Medium EMA\n",
    "  df['EMAS'] = ta.ema(df.Close, length=150) # Slow EMA\n",
    "\n",
    "  # Compute target as the difference between close and open prices\n",
    "  df['Target'] = df['Close'] - df['Open']\n",
    "\n",
    "  # Shift the target column up by one row for future prediction\n",
    "  df['Target'] = df['Target'].shift(-1)\n",
    "\n",
    "  # Create a binary class based on whether the target is positive or not\n",
    "  df['TargetClass'] = [1 if df.Target[i] > 0 else 0 for i in range(len(df))]\n",
    "\n",
    "  # Shift the close prices up by one row to get the next day's close\n",
    "  df['TargetNextClose'] = df['Close'].shift(-1)\n",
    "\n",
    "  # Remove rows with missing values and remove duplicates\n",
    "  df = df.dropna().drop_duplicates()\n",
    "\n",
    "  return df"
   ]
  },
  {
   "cell_type": "code",
   "execution_count": null,
   "metadata": {
    "colab": {
     "base_uri": "https://localhost:8080/",
     "height": 91
    },
    "id": "SzbnsoGuAb1O",
    "outputId": "3ae03de4-07cc-4527-f15e-e2a19e0a2656"
   },
   "outputs": [
    {
     "name": "stderr",
     "output_type": "stream",
     "text": [
      "<ipython-input-7-2a37aa6252ce>:20: FutureWarning: Series.__getitem__ treating keys as positions is deprecated. In a future version, integer keys will always be treated as labels (consistent with DataFrame behavior). To access a value by position, use `ser.iloc[pos]`\n",
      "  df['TargetClass'] = [1 if df.Target[i] > 0 else 0 for i in range(len(df))]\n"
     ]
    },
    {
     "data": {
      "application/vnd.google.colaboratory.intrinsic+json": {
       "type": "string"
      },
      "text/plain": [
       "'Duplicate Values: 0'"
      ]
     },
     "execution_count": 8,
     "metadata": {},
     "output_type": "execute_result"
    }
   ],
   "source": [
    "df = preprocess_data(df)\n",
    "f\"Duplicate Values: {df.duplicated().sum()}\""
   ]
  },
  {
   "cell_type": "code",
   "execution_count": null,
   "metadata": {
    "colab": {
     "base_uri": "https://localhost:8080/",
     "height": 238
    },
    "id": "WT46BMVJhbfI",
    "outputId": "60d677f4-6a83-485e-e63e-5855e10dd891"
   },
   "outputs": [
    {
     "data": {
      "application/vnd.google.colaboratory.intrinsic+json": {
       "summary": "{\n  \"name\": \"df\",\n  \"rows\": 2243,\n  \"fields\": [\n    {\n      \"column\": \"Date\",\n      \"properties\": {\n        \"dtype\": \"date\",\n        \"min\": \"2012-09-11 00:00:00\",\n        \"max\": \"2023-01-29 00:00:00\",\n        \"num_unique_values\": 2242,\n        \"samples\": [\n          \"2015-12-21 00:00:00\",\n          \"2017-04-03 00:00:00\",\n          \"2019-12-15 00:00:00\"\n        ],\n        \"semantic_type\": \"\",\n        \"description\": \"\"\n      }\n    },\n    {\n      \"column\": \"Open\",\n      \"properties\": {\n        \"dtype\": \"number\",\n        \"std\": 222.13242576297708,\n        \"min\": 264.0,\n        \"max\": 1416.0,\n        \"num_unique_values\": 661,\n        \"samples\": [\n          299.8,\n          670.0,\n          581.0\n        ],\n        \"semantic_type\": \"\",\n        \"description\": \"\"\n      }\n    },\n    {\n      \"column\": \"High\",\n      \"properties\": {\n        \"dtype\": \"number\",\n        \"std\": 226.73823707273834,\n        \"min\": 272.0,\n        \"max\": 1448.0,\n        \"num_unique_values\": 683,\n        \"samples\": [\n          681.0,\n          602.0,\n          835.0\n        ],\n        \"semantic_type\": \"\",\n        \"description\": \"\"\n      }\n    },\n    {\n      \"column\": \"Low\",\n      \"properties\": {\n        \"dtype\": \"number\",\n        \"std\": 218.88089373025218,\n        \"min\": 252.0,\n        \"max\": 1400.0,\n        \"num_unique_values\": 647,\n        \"samples\": [\n          317.6,\n          680.0,\n          470.0\n        ],\n        \"semantic_type\": \"\",\n        \"description\": \"\"\n      }\n    },\n    {\n      \"column\": \"Close\",\n      \"properties\": {\n        \"dtype\": \"number\",\n        \"std\": 223.01772262562673,\n        \"min\": 264.0,\n        \"max\": 1416.0,\n        \"num_unique_values\": 681,\n        \"samples\": [\n          302.1,\n          779.0,\n          344.0\n        ],\n        \"semantic_type\": \"\",\n        \"description\": \"\"\n      }\n    },\n    {\n      \"column\": \"Change %\",\n      \"properties\": {\n        \"dtype\": \"number\",\n        \"std\": 1.341186239763929,\n        \"min\": -13.02,\n        \"max\": 9.89,\n        \"num_unique_values\": 472,\n        \"samples\": [\n          0.96,\n          -1.31,\n          3.66\n        ],\n        \"semantic_type\": \"\",\n        \"description\": \"\"\n      }\n    },\n    {\n      \"column\": \"Volume\",\n      \"properties\": {\n        \"dtype\": \"number\",\n        \"std\": 68127.75079215804,\n        \"min\": 32.0,\n        \"max\": 901446.0,\n        \"num_unique_values\": 2184,\n        \"samples\": [\n          13606.0,\n          11268.0,\n          9356.0\n        ],\n        \"semantic_type\": \"\",\n        \"description\": \"\"\n      }\n    },\n    {\n      \"column\": \"Amount\",\n      \"properties\": {\n        \"dtype\": \"number\",\n        \"std\": 34820785.86436583,\n        \"min\": 9280.0,\n        \"max\": 426212819.0,\n        \"num_unique_values\": 2241,\n        \"samples\": [\n          37349432.0,\n          26374290.0,\n          2438342.0\n        ],\n        \"semantic_type\": \"\",\n        \"description\": \"\"\n      }\n    },\n    {\n      \"column\": \"RSI\",\n      \"properties\": {\n        \"dtype\": \"number\",\n        \"std\": 14.122347266211465,\n        \"min\": 11.695876915650283,\n        \"max\": 96.08119836416915,\n        \"num_unique_values\": 2135,\n        \"samples\": [\n          63.100462328512954,\n          57.65543808084941,\n          47.701666969127736\n        ],\n        \"semantic_type\": \"\",\n        \"description\": \"\"\n      }\n    },\n    {\n      \"column\": \"EMAF\",\n      \"properties\": {\n        \"dtype\": \"number\",\n        \"std\": 218.39358796840966,\n        \"min\": 278.5233445973236,\n        \"max\": 1341.6388581654483,\n        \"num_unique_values\": 2243,\n        \"samples\": [\n          649.0032449377383,\n          638.0638756078636,\n          285.7174447762325\n        ],\n        \"semantic_type\": \"\",\n        \"description\": \"\"\n      }\n    },\n    {\n      \"column\": \"EMAM\",\n      \"properties\": {\n        \"dtype\": \"number\",\n        \"std\": 202.19579422549901,\n        \"min\": 290.7855748362059,\n        \"max\": 1087.9680931356827,\n        \"num_unique_values\": 2243,\n        \"samples\": [\n          703.2764483122171,\n          796.544376944809,\n          302.7402530499529\n        ],\n        \"semantic_type\": \"\",\n        \"description\": \"\"\n      }\n    },\n    {\n      \"column\": \"EMAS\",\n      \"properties\": {\n        \"dtype\": \"number\",\n        \"std\": 194.29265619550986,\n        \"min\": 274.82666666666665,\n        \"max\": 1015.7011492860836,\n        \"num_unique_values\": 2243,\n        \"samples\": [\n          704.6932071617458,\n          841.409634475737,\n          306.8892538724769\n        ],\n        \"semantic_type\": \"\",\n        \"description\": \"\"\n      }\n    },\n    {\n      \"column\": \"Target\",\n      \"properties\": {\n        \"dtype\": \"number\",\n        \"std\": 12.402873128524467,\n        \"min\": -99.0,\n        \"max\": 105.0,\n        \"num_unique_values\": 225,\n        \"samples\": [\n          -5.0,\n          7.100000000000023,\n          -10.800000000000011\n        ],\n        \"semantic_type\": \"\",\n        \"description\": \"\"\n      }\n    },\n    {\n      \"column\": \"TargetClass\",\n      \"properties\": {\n        \"dtype\": \"number\",\n        \"std\": 0,\n        \"min\": 0,\n        \"max\": 1,\n        \"num_unique_values\": 2,\n        \"samples\": [\n          0,\n          1\n        ],\n        \"semantic_type\": \"\",\n        \"description\": \"\"\n      }\n    },\n    {\n      \"column\": \"TargetNextClose\",\n      \"properties\": {\n        \"dtype\": \"number\",\n        \"std\": 223.02340368508396,\n        \"min\": 264.0,\n        \"max\": 1416.0,\n        \"num_unique_values\": 681,\n        \"samples\": [\n          302.1,\n          779.0\n        ],\n        \"semantic_type\": \"\",\n        \"description\": \"\"\n      }\n    }\n  ]\n}",
       "type": "dataframe",
       "variable_name": "df"
      },
      "text/html": [
       "\n",
       "  <div id=\"df-675073cd-c151-4ace-9e4d-1caf1278dadc\" class=\"colab-df-container\">\n",
       "    <div>\n",
       "<style scoped>\n",
       "    .dataframe tbody tr th:only-of-type {\n",
       "        vertical-align: middle;\n",
       "    }\n",
       "\n",
       "    .dataframe tbody tr th {\n",
       "        vertical-align: top;\n",
       "    }\n",
       "\n",
       "    .dataframe thead th {\n",
       "        text-align: right;\n",
       "    }\n",
       "</style>\n",
       "<table border=\"1\" class=\"dataframe\">\n",
       "  <thead>\n",
       "    <tr style=\"text-align: right;\">\n",
       "      <th></th>\n",
       "      <th>Open</th>\n",
       "      <th>High</th>\n",
       "      <th>Low</th>\n",
       "      <th>Close</th>\n",
       "      <th>Change %</th>\n",
       "      <th>Volume</th>\n",
       "      <th>Amount</th>\n",
       "      <th>RSI</th>\n",
       "      <th>EMAF</th>\n",
       "      <th>EMAM</th>\n",
       "      <th>EMAS</th>\n",
       "      <th>Target</th>\n",
       "      <th>TargetClass</th>\n",
       "      <th>TargetNextClose</th>\n",
       "    </tr>\n",
       "    <tr>\n",
       "      <th>Date</th>\n",
       "      <th></th>\n",
       "      <th></th>\n",
       "      <th></th>\n",
       "      <th></th>\n",
       "      <th></th>\n",
       "      <th></th>\n",
       "      <th></th>\n",
       "      <th></th>\n",
       "      <th></th>\n",
       "      <th></th>\n",
       "      <th></th>\n",
       "      <th></th>\n",
       "      <th></th>\n",
       "      <th></th>\n",
       "    </tr>\n",
       "  </thead>\n",
       "  <tbody>\n",
       "    <tr>\n",
       "      <th>2012-09-11</th>\n",
       "      <td>305.0</td>\n",
       "      <td>310.0</td>\n",
       "      <td>301.0</td>\n",
       "      <td>307.0</td>\n",
       "      <td>0.0</td>\n",
       "      <td>1582.0</td>\n",
       "      <td>481942.0</td>\n",
       "      <td>49.492618</td>\n",
       "      <td>306.527640</td>\n",
       "      <td>290.785575</td>\n",
       "      <td>274.826667</td>\n",
       "      <td>9.0</td>\n",
       "      <td>1</td>\n",
       "      <td>316.0</td>\n",
       "    </tr>\n",
       "    <tr>\n",
       "      <th>2012-09-12</th>\n",
       "      <td>307.0</td>\n",
       "      <td>317.0</td>\n",
       "      <td>307.0</td>\n",
       "      <td>316.0</td>\n",
       "      <td>0.0</td>\n",
       "      <td>3970.0</td>\n",
       "      <td>1235113.0</td>\n",
       "      <td>56.223802</td>\n",
       "      <td>307.429769</td>\n",
       "      <td>291.284870</td>\n",
       "      <td>275.372009</td>\n",
       "      <td>-6.0</td>\n",
       "      <td>0</td>\n",
       "      <td>310.0</td>\n",
       "    </tr>\n",
       "    <tr>\n",
       "      <th>2012-09-13</th>\n",
       "      <td>316.0</td>\n",
       "      <td>311.0</td>\n",
       "      <td>310.0</td>\n",
       "      <td>310.0</td>\n",
       "      <td>0.0</td>\n",
       "      <td>1978.0</td>\n",
       "      <td>613538.0</td>\n",
       "      <td>51.336853</td>\n",
       "      <td>307.674553</td>\n",
       "      <td>291.655467</td>\n",
       "      <td>275.830658</td>\n",
       "      <td>2.0</td>\n",
       "      <td>1</td>\n",
       "      <td>312.0</td>\n",
       "    </tr>\n",
       "    <tr>\n",
       "      <th>2012-09-16</th>\n",
       "      <td>310.0</td>\n",
       "      <td>312.0</td>\n",
       "      <td>310.0</td>\n",
       "      <td>312.0</td>\n",
       "      <td>0.0</td>\n",
       "      <td>1734.0</td>\n",
       "      <td>539732.0</td>\n",
       "      <td>52.802007</td>\n",
       "      <td>308.086500</td>\n",
       "      <td>292.058329</td>\n",
       "      <td>276.309722</td>\n",
       "      <td>6.0</td>\n",
       "      <td>1</td>\n",
       "      <td>318.0</td>\n",
       "    </tr>\n",
       "    <tr>\n",
       "      <th>2012-09-17</th>\n",
       "      <td>312.0</td>\n",
       "      <td>318.0</td>\n",
       "      <td>309.0</td>\n",
       "      <td>318.0</td>\n",
       "      <td>0.0</td>\n",
       "      <td>1692.0</td>\n",
       "      <td>531596.0</td>\n",
       "      <td>56.966604</td>\n",
       "      <td>309.030643</td>\n",
       "      <td>292.572026</td>\n",
       "      <td>276.861911</td>\n",
       "      <td>0.0</td>\n",
       "      <td>0</td>\n",
       "      <td>318.0</td>\n",
       "    </tr>\n",
       "  </tbody>\n",
       "</table>\n",
       "</div>\n",
       "    <div class=\"colab-df-buttons\">\n",
       "\n",
       "  <div class=\"colab-df-container\">\n",
       "    <button class=\"colab-df-convert\" onclick=\"convertToInteractive('df-675073cd-c151-4ace-9e4d-1caf1278dadc')\"\n",
       "            title=\"Convert this dataframe to an interactive table.\"\n",
       "            style=\"display:none;\">\n",
       "\n",
       "  <svg xmlns=\"http://www.w3.org/2000/svg\" height=\"24px\" viewBox=\"0 -960 960 960\">\n",
       "    <path d=\"M120-120v-720h720v720H120Zm60-500h600v-160H180v160Zm220 220h160v-160H400v160Zm0 220h160v-160H400v160ZM180-400h160v-160H180v160Zm440 0h160v-160H620v160ZM180-180h160v-160H180v160Zm440 0h160v-160H620v160Z\"/>\n",
       "  </svg>\n",
       "    </button>\n",
       "\n",
       "  <style>\n",
       "    .colab-df-container {\n",
       "      display:flex;\n",
       "      gap: 12px;\n",
       "    }\n",
       "\n",
       "    .colab-df-convert {\n",
       "      background-color: #E8F0FE;\n",
       "      border: none;\n",
       "      border-radius: 50%;\n",
       "      cursor: pointer;\n",
       "      display: none;\n",
       "      fill: #1967D2;\n",
       "      height: 32px;\n",
       "      padding: 0 0 0 0;\n",
       "      width: 32px;\n",
       "    }\n",
       "\n",
       "    .colab-df-convert:hover {\n",
       "      background-color: #E2EBFA;\n",
       "      box-shadow: 0px 1px 2px rgba(60, 64, 67, 0.3), 0px 1px 3px 1px rgba(60, 64, 67, 0.15);\n",
       "      fill: #174EA6;\n",
       "    }\n",
       "\n",
       "    .colab-df-buttons div {\n",
       "      margin-bottom: 4px;\n",
       "    }\n",
       "\n",
       "    [theme=dark] .colab-df-convert {\n",
       "      background-color: #3B4455;\n",
       "      fill: #D2E3FC;\n",
       "    }\n",
       "\n",
       "    [theme=dark] .colab-df-convert:hover {\n",
       "      background-color: #434B5C;\n",
       "      box-shadow: 0px 1px 3px 1px rgba(0, 0, 0, 0.15);\n",
       "      filter: drop-shadow(0px 1px 2px rgba(0, 0, 0, 0.3));\n",
       "      fill: #FFFFFF;\n",
       "    }\n",
       "  </style>\n",
       "\n",
       "    <script>\n",
       "      const buttonEl =\n",
       "        document.querySelector('#df-675073cd-c151-4ace-9e4d-1caf1278dadc button.colab-df-convert');\n",
       "      buttonEl.style.display =\n",
       "        google.colab.kernel.accessAllowed ? 'block' : 'none';\n",
       "\n",
       "      async function convertToInteractive(key) {\n",
       "        const element = document.querySelector('#df-675073cd-c151-4ace-9e4d-1caf1278dadc');\n",
       "        const dataTable =\n",
       "          await google.colab.kernel.invokeFunction('convertToInteractive',\n",
       "                                                    [key], {});\n",
       "        if (!dataTable) return;\n",
       "\n",
       "        const docLinkHtml = 'Like what you see? Visit the ' +\n",
       "          '<a target=\"_blank\" href=https://colab.research.google.com/notebooks/data_table.ipynb>data table notebook</a>'\n",
       "          + ' to learn more about interactive tables.';\n",
       "        element.innerHTML = '';\n",
       "        dataTable['output_type'] = 'display_data';\n",
       "        await google.colab.output.renderOutput(dataTable, element);\n",
       "        const docLink = document.createElement('div');\n",
       "        docLink.innerHTML = docLinkHtml;\n",
       "        element.appendChild(docLink);\n",
       "      }\n",
       "    </script>\n",
       "  </div>\n",
       "\n",
       "\n",
       "<div id=\"df-66428706-7ae1-42be-9664-3fc981b00d21\">\n",
       "  <button class=\"colab-df-quickchart\" onclick=\"quickchart('df-66428706-7ae1-42be-9664-3fc981b00d21')\"\n",
       "            title=\"Suggest charts\"\n",
       "            style=\"display:none;\">\n",
       "\n",
       "<svg xmlns=\"http://www.w3.org/2000/svg\" height=\"24px\"viewBox=\"0 0 24 24\"\n",
       "     width=\"24px\">\n",
       "    <g>\n",
       "        <path d=\"M19 3H5c-1.1 0-2 .9-2 2v14c0 1.1.9 2 2 2h14c1.1 0 2-.9 2-2V5c0-1.1-.9-2-2-2zM9 17H7v-7h2v7zm4 0h-2V7h2v10zm4 0h-2v-4h2v4z\"/>\n",
       "    </g>\n",
       "</svg>\n",
       "  </button>\n",
       "\n",
       "<style>\n",
       "  .colab-df-quickchart {\n",
       "      --bg-color: #E8F0FE;\n",
       "      --fill-color: #1967D2;\n",
       "      --hover-bg-color: #E2EBFA;\n",
       "      --hover-fill-color: #174EA6;\n",
       "      --disabled-fill-color: #AAA;\n",
       "      --disabled-bg-color: #DDD;\n",
       "  }\n",
       "\n",
       "  [theme=dark] .colab-df-quickchart {\n",
       "      --bg-color: #3B4455;\n",
       "      --fill-color: #D2E3FC;\n",
       "      --hover-bg-color: #434B5C;\n",
       "      --hover-fill-color: #FFFFFF;\n",
       "      --disabled-bg-color: #3B4455;\n",
       "      --disabled-fill-color: #666;\n",
       "  }\n",
       "\n",
       "  .colab-df-quickchart {\n",
       "    background-color: var(--bg-color);\n",
       "    border: none;\n",
       "    border-radius: 50%;\n",
       "    cursor: pointer;\n",
       "    display: none;\n",
       "    fill: var(--fill-color);\n",
       "    height: 32px;\n",
       "    padding: 0;\n",
       "    width: 32px;\n",
       "  }\n",
       "\n",
       "  .colab-df-quickchart:hover {\n",
       "    background-color: var(--hover-bg-color);\n",
       "    box-shadow: 0 1px 2px rgba(60, 64, 67, 0.3), 0 1px 3px 1px rgba(60, 64, 67, 0.15);\n",
       "    fill: var(--button-hover-fill-color);\n",
       "  }\n",
       "\n",
       "  .colab-df-quickchart-complete:disabled,\n",
       "  .colab-df-quickchart-complete:disabled:hover {\n",
       "    background-color: var(--disabled-bg-color);\n",
       "    fill: var(--disabled-fill-color);\n",
       "    box-shadow: none;\n",
       "  }\n",
       "\n",
       "  .colab-df-spinner {\n",
       "    border: 2px solid var(--fill-color);\n",
       "    border-color: transparent;\n",
       "    border-bottom-color: var(--fill-color);\n",
       "    animation:\n",
       "      spin 1s steps(1) infinite;\n",
       "  }\n",
       "\n",
       "  @keyframes spin {\n",
       "    0% {\n",
       "      border-color: transparent;\n",
       "      border-bottom-color: var(--fill-color);\n",
       "      border-left-color: var(--fill-color);\n",
       "    }\n",
       "    20% {\n",
       "      border-color: transparent;\n",
       "      border-left-color: var(--fill-color);\n",
       "      border-top-color: var(--fill-color);\n",
       "    }\n",
       "    30% {\n",
       "      border-color: transparent;\n",
       "      border-left-color: var(--fill-color);\n",
       "      border-top-color: var(--fill-color);\n",
       "      border-right-color: var(--fill-color);\n",
       "    }\n",
       "    40% {\n",
       "      border-color: transparent;\n",
       "      border-right-color: var(--fill-color);\n",
       "      border-top-color: var(--fill-color);\n",
       "    }\n",
       "    60% {\n",
       "      border-color: transparent;\n",
       "      border-right-color: var(--fill-color);\n",
       "    }\n",
       "    80% {\n",
       "      border-color: transparent;\n",
       "      border-right-color: var(--fill-color);\n",
       "      border-bottom-color: var(--fill-color);\n",
       "    }\n",
       "    90% {\n",
       "      border-color: transparent;\n",
       "      border-bottom-color: var(--fill-color);\n",
       "    }\n",
       "  }\n",
       "</style>\n",
       "\n",
       "  <script>\n",
       "    async function quickchart(key) {\n",
       "      const quickchartButtonEl =\n",
       "        document.querySelector('#' + key + ' button');\n",
       "      quickchartButtonEl.disabled = true;  // To prevent multiple clicks.\n",
       "      quickchartButtonEl.classList.add('colab-df-spinner');\n",
       "      try {\n",
       "        const charts = await google.colab.kernel.invokeFunction(\n",
       "            'suggestCharts', [key], {});\n",
       "      } catch (error) {\n",
       "        console.error('Error during call to suggestCharts:', error);\n",
       "      }\n",
       "      quickchartButtonEl.classList.remove('colab-df-spinner');\n",
       "      quickchartButtonEl.classList.add('colab-df-quickchart-complete');\n",
       "    }\n",
       "    (() => {\n",
       "      let quickchartButtonEl =\n",
       "        document.querySelector('#df-66428706-7ae1-42be-9664-3fc981b00d21 button');\n",
       "      quickchartButtonEl.style.display =\n",
       "        google.colab.kernel.accessAllowed ? 'block' : 'none';\n",
       "    })();\n",
       "  </script>\n",
       "</div>\n",
       "\n",
       "    </div>\n",
       "  </div>\n"
      ],
      "text/plain": [
       "             Open   High    Low  Close  Change %  Volume     Amount  \\\n",
       "Date                                                                  \n",
       "2012-09-11  305.0  310.0  301.0  307.0       0.0  1582.0   481942.0   \n",
       "2012-09-12  307.0  317.0  307.0  316.0       0.0  3970.0  1235113.0   \n",
       "2012-09-13  316.0  311.0  310.0  310.0       0.0  1978.0   613538.0   \n",
       "2012-09-16  310.0  312.0  310.0  312.0       0.0  1734.0   539732.0   \n",
       "2012-09-17  312.0  318.0  309.0  318.0       0.0  1692.0   531596.0   \n",
       "\n",
       "                  RSI        EMAF        EMAM        EMAS  Target  \\\n",
       "Date                                                                \n",
       "2012-09-11  49.492618  306.527640  290.785575  274.826667     9.0   \n",
       "2012-09-12  56.223802  307.429769  291.284870  275.372009    -6.0   \n",
       "2012-09-13  51.336853  307.674553  291.655467  275.830658     2.0   \n",
       "2012-09-16  52.802007  308.086500  292.058329  276.309722     6.0   \n",
       "2012-09-17  56.966604  309.030643  292.572026  276.861911     0.0   \n",
       "\n",
       "            TargetClass  TargetNextClose  \n",
       "Date                                      \n",
       "2012-09-11            1            316.0  \n",
       "2012-09-12            0            310.0  \n",
       "2012-09-13            1            312.0  \n",
       "2012-09-16            1            318.0  \n",
       "2012-09-17            0            318.0  "
      ]
     },
     "execution_count": 9,
     "metadata": {},
     "output_type": "execute_result"
    }
   ],
   "source": [
    "df.head()"
   ]
  },
  {
   "cell_type": "markdown",
   "metadata": {
    "id": "952SjlIU8ori"
   },
   "source": [
    "# Visualization of the Processed Dataset"
   ]
  },
  {
   "cell_type": "code",
   "execution_count": null,
   "metadata": {
    "id": "ZRDgwrDZtXiv"
   },
   "outputs": [],
   "source": [
    "def plot_data(df):\n",
    "  \"\"\"\n",
    "  Lineplot chart of the processed dataframe.\n",
    "  \"\"\"\n",
    "  df_plot = df.copy().drop(['RSI', 'EMAF', 'EMAM', 'EMAS', 'Target', 'TargetClass', 'TargetNextClose'], axis=1)\n",
    "  df_plot.index = pd.to_datetime(df_plot.index)\n",
    "  print(df_plot.shape)\n",
    "\n",
    "  ncols = 2\n",
    "  nrows = int(round(df_plot.shape[1] / ncols, 0))\n",
    "\n",
    "  fig, axes = plt.subplots(nrows=nrows, ncols=ncols, sharex=True, figsize=(14, 7)) # Use axes instead of ax\n",
    "  axes = axes.flatten() # Flatten the axes array for easier iteration\n",
    "\n",
    "  for i in range(df_plot.shape[1]): # Iterate over the number of columns\n",
    "    sns.lineplot(data=df_plot.iloc[:, i], ax=axes[i]) # Use axes[i] to access the correct subplot\n",
    "    axes[i].tick_params(axis='x', rotation=30, labelsize=10, length=0)\n",
    "\n",
    "\n",
    "  # Hide any unused subplots\n",
    "  for i in range(df_plot.shape[1], nrows * ncols):\n",
    "    fig.delaxes(axes[i])\n",
    "\n",
    "  fig.tight_layout()\n",
    "  plt.show()"
   ]
  },
  {
   "cell_type": "code",
   "execution_count": null,
   "metadata": {
    "colab": {
     "base_uri": "https://localhost:8080/",
     "height": 692
    },
    "id": "kaVNhkMat-X5",
    "outputId": "ffed5d25-135b-482e-b561-8a54b27f6799"
   },
   "outputs": [
    {
     "name": "stdout",
     "output_type": "stream",
     "text": [
      "(2243, 7)\n"
     ]
    },
    {
     "data": {
      "image/png": "[encoded data removed]",
      "text/plain": [
       "<Figure size 1400x700 with 7 Axes>"
      ]
     },
     "metadata": {},
     "output_type": "display_data"
    }
   ],
   "source": [
    "plot_data(df)"
   ]
  },
  {
   "cell_type": "markdown",
   "metadata": {
    "id": "YUz990bvrmJx"
   },
   "source": [
    "# Stock Price Chart Visualization"
   ]
  },
  {
   "cell_type": "code",
   "execution_count": null,
   "metadata": {
    "id": "FQpVYwZVpcct"
   },
   "outputs": [],
   "source": [
    "def plot_chart(df):\n",
    "  \"\"\"\n",
    "  Plots the candlestick chart for the given stock.\n",
    "  \"\"\"\n",
    "  plt.figure(figsize=(14, 8))\n",
    "  plt.plot(df['Close'], color='black', linewidth=1)\n",
    "  plt.title('Stock Price Chart from 2012 to 2023')\n",
    "  plt.xlabel('Date')\n",
    "  plt.ylabel('Close Price')\n",
    "  plt.show()"
   ]
  },
  {
   "cell_type": "code",
   "execution_count": null,
   "metadata": {
    "colab": {
     "base_uri": "https://localhost:8080/",
     "height": 718
    },
    "id": "uH9qe5LoEds7",
    "outputId": "b5a3bfb4-d017-49e4-f629-5dfc4341d424"
   },
   "outputs": [
    {
     "data": {
      "image/png": "[encoded data removed]",
      "text/plain": [
       "<Figure size 1400x800 with 1 Axes>"
      ]
     },
     "metadata": {},
     "output_type": "display_data"
    }
   ],
   "source": [
    "plot_chart(df)"
   ]
  },
  {
   "cell_type": "markdown",
   "metadata": {
    "id": "uusu_pNljuwN"
   },
   "source": [
    "# Remove Un-correlated Features"
   ]
  },
  {
   "cell_type": "code",
   "execution_count": null,
   "metadata": {
    "colab": {
     "base_uri": "https://localhost:8080/",
     "height": 523
    },
    "id": "4P1gDHH8GPzY",
    "outputId": "0e709f72-90c2-44e4-d0e9-ec63b96525ef"
   },
   "outputs": [
    {
     "data": {
      "text/html": [
       "<div>\n",
       "<style scoped>\n",
       "    .dataframe tbody tr th:only-of-type {\n",
       "        vertical-align: middle;\n",
       "    }\n",
       "\n",
       "    .dataframe tbody tr th {\n",
       "        vertical-align: top;\n",
       "    }\n",
       "\n",
       "    .dataframe thead th {\n",
       "        text-align: right;\n",
       "    }\n",
       "</style>\n",
       "<table border=\"1\" class=\"dataframe\">\n",
       "  <thead>\n",
       "    <tr style=\"text-align: right;\">\n",
       "      <th></th>\n",
       "      <th>Close</th>\n",
       "    </tr>\n",
       "  </thead>\n",
       "  <tbody>\n",
       "    <tr>\n",
       "      <th>Open</th>\n",
       "      <td>0.998455</td>\n",
       "    </tr>\n",
       "    <tr>\n",
       "      <th>High</th>\n",
       "      <td>0.999447</td>\n",
       "    </tr>\n",
       "    <tr>\n",
       "      <th>Low</th>\n",
       "      <td>0.999283</td>\n",
       "    </tr>\n",
       "    <tr>\n",
       "      <th>Close</th>\n",
       "      <td>1.000000</td>\n",
       "    </tr>\n",
       "    <tr>\n",
       "      <th>Change %</th>\n",
       "      <td>0.004865</td>\n",
       "    </tr>\n",
       "    <tr>\n",
       "      <th>Volume</th>\n",
       "      <td>-0.001390</td>\n",
       "    </tr>\n",
       "    <tr>\n",
       "      <th>Amount</th>\n",
       "      <td>0.199932</td>\n",
       "    </tr>\n",
       "    <tr>\n",
       "      <th>RSI</th>\n",
       "      <td>0.165250</td>\n",
       "    </tr>\n",
       "    <tr>\n",
       "      <th>EMAF</th>\n",
       "      <td>0.981305</td>\n",
       "    </tr>\n",
       "    <tr>\n",
       "      <th>EMAM</th>\n",
       "      <td>0.906640</td>\n",
       "    </tr>\n",
       "    <tr>\n",
       "      <th>EMAS</th>\n",
       "      <td>0.866484</td>\n",
       "    </tr>\n",
       "    <tr>\n",
       "      <th>Target</th>\n",
       "      <td>0.047459</td>\n",
       "    </tr>\n",
       "    <tr>\n",
       "      <th>TargetClass</th>\n",
       "      <td>-0.006673</td>\n",
       "    </tr>\n",
       "    <tr>\n",
       "      <th>TargetNextClose</th>\n",
       "      <td>0.997750</td>\n",
       "    </tr>\n",
       "  </tbody>\n",
       "</table>\n",
       "</div><br><label><b>dtype:</b> float64</label>"
      ],
      "text/plain": [
       "Open               0.998455\n",
       "High               0.999447\n",
       "Low                0.999283\n",
       "Close              1.000000\n",
       "Change %           0.004865\n",
       "Volume            -0.001390\n",
       "Amount             0.199932\n",
       "RSI                0.165250\n",
       "EMAF               0.981305\n",
       "EMAM               0.906640\n",
       "EMAS               0.866484\n",
       "Target             0.047459\n",
       "TargetClass       -0.006673\n",
       "TargetNextClose    0.997750\n",
       "Name: Close, dtype: float64"
      ]
     },
     "execution_count": 14,
     "metadata": {},
     "output_type": "execute_result"
    }
   ],
   "source": [
    "# Finding Correlation with close\n",
    "df.corr()['Close']"
   ]
  },
  {
   "cell_type": "code",
   "execution_count": null,
   "metadata": {
    "id": "rECFDtSRj6GM"
   },
   "outputs": [],
   "source": [
    "df = df.drop(['Volume', 'Change %'], axis=1) # Remove Volume and Change %"
   ]
  },
  {
   "cell_type": "code",
   "execution_count": null,
   "metadata": {
    "colab": {
     "base_uri": "https://localhost:8080/",
     "height": 238
    },
    "id": "j1SmcCtJq7pH",
    "outputId": "7d9fb7fd-69cd-4fce-be0b-3de2418e5a5c"
   },
   "outputs": [
    {
     "data": {
      "application/vnd.google.colaboratory.intrinsic+json": {
       "summary": "{\n  \"name\": \"df\",\n  \"rows\": 5,\n  \"fields\": [\n    {\n      \"column\": \"Date\",\n      \"properties\": {\n        \"dtype\": \"date\",\n        \"min\": \"2023-01-23 00:00:00\",\n        \"max\": \"2023-01-29 00:00:00\",\n        \"num_unique_values\": 5,\n        \"samples\": [\n          \"2023-01-24 00:00:00\",\n          \"2023-01-29 00:00:00\",\n          \"2023-01-25 00:00:00\"\n        ],\n        \"semantic_type\": \"\",\n        \"description\": \"\"\n      }\n    },\n    {\n      \"column\": \"Open\",\n      \"properties\": {\n        \"dtype\": \"number\",\n        \"std\": 3.9115214431215892,\n        \"min\": 297.0,\n        \"max\": 306.0,\n        \"num_unique_values\": 4,\n        \"samples\": [\n          298.0,\n          297.0,\n          306.0\n        ],\n        \"semantic_type\": \"\",\n        \"description\": \"\"\n      }\n    },\n    {\n      \"column\": \"High\",\n      \"properties\": {\n        \"dtype\": \"number\",\n        \"std\": 3.260061349115991,\n        \"min\": 297.8,\n        \"max\": 306.0,\n        \"num_unique_values\": 5,\n        \"samples\": [\n          304.0,\n          297.8,\n          303.0\n        ],\n        \"semantic_type\": \"\",\n        \"description\": \"\"\n      }\n    },\n    {\n      \"column\": \"Low\",\n      \"properties\": {\n        \"dtype\": \"number\",\n        \"std\": 2.179449471770337,\n        \"min\": 293.0,\n        \"max\": 298.0,\n        \"num_unique_values\": 5,\n        \"samples\": [\n          294.0,\n          293.0,\n          297.5\n        ],\n        \"semantic_type\": \"\",\n        \"description\": \"\"\n      }\n    },\n    {\n      \"column\": \"Close\",\n      \"properties\": {\n        \"dtype\": \"number\",\n        \"std\": 3.3466401061363023,\n        \"min\": 294.0,\n        \"max\": 303.0,\n        \"num_unique_values\": 4,\n        \"samples\": [\n          303.0,\n          294.0,\n          298.0\n        ],\n        \"semantic_type\": \"\",\n        \"description\": \"\"\n      }\n    },\n    {\n      \"column\": \"Amount\",\n      \"properties\": {\n        \"dtype\": \"number\",\n        \"std\": 6583045.34885866,\n        \"min\": 7323075.0,\n        \"max\": 24565342.6,\n        \"num_unique_values\": 5,\n        \"samples\": [\n          11070832.8,\n          11046697.3,\n          12482789.0\n        ],\n        \"semantic_type\": \"\",\n        \"description\": \"\"\n      }\n    },\n    {\n      \"column\": \"RSI\",\n      \"properties\": {\n        \"dtype\": \"number\",\n        \"std\": 1.9690089527426362,\n        \"min\": 41.840960633710914,\n        \"max\": 47.113997494987586,\n        \"num_unique_values\": 5,\n        \"samples\": [\n          47.113997494987586,\n          41.840960633710914,\n          44.16552611960662\n        ],\n        \"semantic_type\": \"\",\n        \"description\": \"\"\n      }\n    },\n    {\n      \"column\": \"EMAF\",\n      \"properties\": {\n        \"dtype\": \"number\",\n        \"std\": 1.176659141624069,\n        \"min\": 303.207740543208,\n        \"max\": 306.07099844678635,\n        \"num_unique_values\": 5,\n        \"samples\": [\n          305.7785224042352,\n          303.207740543208,\n          305.03771074668896\n        ],\n        \"semantic_type\": \"\",\n        \"description\": \"\"\n      }\n    },\n    {\n      \"column\": \"EMAM\",\n      \"properties\": {\n        \"dtype\": \"number\",\n        \"std\": 0.5340798719665786,\n        \"min\": 313.68462511236544,\n        \"max\": 315.0178449182547,\n        \"num_unique_values\": 5,\n        \"samples\": [\n          314.77986779116054,\n          313.68462511236544,\n          314.44759318143457\n        ],\n        \"semantic_type\": \"\",\n        \"description\": \"\"\n      }\n    },\n    {\n      \"column\": \"EMAS\",\n      \"properties\": {\n        \"dtype\": \"number\",\n        \"std\": 0.5643027814996798,\n        \"min\": 323.5702747522324,\n        \"max\": 324.9874054531084,\n        \"num_unique_values\": 5,\n        \"samples\": [\n          324.6961815398222,\n          323.5702747522324,\n          324.34258973134774\n        ],\n        \"semantic_type\": \"\",\n        \"description\": \"\"\n      }\n    },\n    {\n      \"column\": \"Target\",\n      \"properties\": {\n        \"dtype\": \"number\",\n        \"std\": 3.7682887362833544,\n        \"min\": -5.0,\n        \"max\": 5.0,\n        \"num_unique_values\": 5,\n        \"samples\": [\n          -5.0,\n          -1.0,\n          -2.0\n        ],\n        \"semantic_type\": \"\",\n        \"description\": \"\"\n      }\n    },\n    {\n      \"column\": \"TargetClass\",\n      \"properties\": {\n        \"dtype\": \"number\",\n        \"std\": 0,\n        \"min\": 0,\n        \"max\": 1,\n        \"num_unique_values\": 2,\n        \"samples\": [\n          0,\n          1\n        ],\n        \"semantic_type\": \"\",\n        \"description\": \"\"\n      }\n    },\n    {\n      \"column\": \"TargetNextClose\",\n      \"properties\": {\n        \"dtype\": \"number\",\n        \"std\": 4.505552130427524,\n        \"min\": 291.0,\n        \"max\": 303.0,\n        \"num_unique_values\": 5,\n        \"samples\": [\n          298.0,\n          291.0\n        ],\n        \"semantic_type\": \"\",\n        \"description\": \"\"\n      }\n    }\n  ]\n}",
       "type": "dataframe"
      },
      "text/html": [
       "\n",
       "  <div id=\"df-0e839f18-2142-4aeb-82b4-3a9ecbf8e215\" class=\"colab-df-container\">\n",
       "    <div>\n",
       "<style scoped>\n",
       "    .dataframe tbody tr th:only-of-type {\n",
       "        vertical-align: middle;\n",
       "    }\n",
       "\n",
       "    .dataframe tbody tr th {\n",
       "        vertical-align: top;\n",
       "    }\n",
       "\n",
       "    .dataframe thead th {\n",
       "        text-align: right;\n",
       "    }\n",
       "</style>\n",
       "<table border=\"1\" class=\"dataframe\">\n",
       "  <thead>\n",
       "    <tr style=\"text-align: right;\">\n",
       "      <th></th>\n",
       "      <th>Open</th>\n",
       "      <th>High</th>\n",
       "      <th>Low</th>\n",
       "      <th>Close</th>\n",
       "      <th>Amount</th>\n",
       "      <th>RSI</th>\n",
       "      <th>EMAF</th>\n",
       "      <th>EMAM</th>\n",
       "      <th>EMAS</th>\n",
       "      <th>Target</th>\n",
       "      <th>TargetClass</th>\n",
       "      <th>TargetNextClose</th>\n",
       "    </tr>\n",
       "    <tr>\n",
       "      <th>Date</th>\n",
       "      <th></th>\n",
       "      <th></th>\n",
       "      <th></th>\n",
       "      <th></th>\n",
       "      <th></th>\n",
       "      <th></th>\n",
       "      <th></th>\n",
       "      <th></th>\n",
       "      <th></th>\n",
       "      <th></th>\n",
       "      <th></th>\n",
       "      <th></th>\n",
       "    </tr>\n",
       "  </thead>\n",
       "  <tbody>\n",
       "    <tr>\n",
       "      <th>2023-01-23</th>\n",
       "      <td>306.0</td>\n",
       "      <td>306.0</td>\n",
       "      <td>298.0</td>\n",
       "      <td>298.0</td>\n",
       "      <td>24565342.6</td>\n",
       "      <td>43.599759</td>\n",
       "      <td>306.070998</td>\n",
       "      <td>315.017845</td>\n",
       "      <td>324.987405</td>\n",
       "      <td>5.0</td>\n",
       "      <td>1</td>\n",
       "      <td>303.0</td>\n",
       "    </tr>\n",
       "    <tr>\n",
       "      <th>2023-01-24</th>\n",
       "      <td>298.0</td>\n",
       "      <td>304.0</td>\n",
       "      <td>294.0</td>\n",
       "      <td>303.0</td>\n",
       "      <td>11070832.8</td>\n",
       "      <td>47.113997</td>\n",
       "      <td>305.778522</td>\n",
       "      <td>314.779868</td>\n",
       "      <td>324.696182</td>\n",
       "      <td>-5.0</td>\n",
       "      <td>0</td>\n",
       "      <td>298.0</td>\n",
       "    </tr>\n",
       "    <tr>\n",
       "      <th>2023-01-25</th>\n",
       "      <td>303.0</td>\n",
       "      <td>303.0</td>\n",
       "      <td>297.5</td>\n",
       "      <td>298.0</td>\n",
       "      <td>12482789.0</td>\n",
       "      <td>44.165526</td>\n",
       "      <td>305.037711</td>\n",
       "      <td>314.447593</td>\n",
       "      <td>324.342590</td>\n",
       "      <td>-2.0</td>\n",
       "      <td>0</td>\n",
       "      <td>296.0</td>\n",
       "    </tr>\n",
       "    <tr>\n",
       "      <th>2023-01-26</th>\n",
       "      <td>298.0</td>\n",
       "      <td>300.0</td>\n",
       "      <td>295.0</td>\n",
       "      <td>296.0</td>\n",
       "      <td>7323075.0</td>\n",
       "      <td>43.011916</td>\n",
       "      <td>304.176976</td>\n",
       "      <td>314.082294</td>\n",
       "      <td>323.967191</td>\n",
       "      <td>-3.0</td>\n",
       "      <td>0</td>\n",
       "      <td>294.0</td>\n",
       "    </tr>\n",
       "    <tr>\n",
       "      <th>2023-01-29</th>\n",
       "      <td>297.0</td>\n",
       "      <td>297.8</td>\n",
       "      <td>293.0</td>\n",
       "      <td>294.0</td>\n",
       "      <td>11046697.3</td>\n",
       "      <td>41.840961</td>\n",
       "      <td>303.207741</td>\n",
       "      <td>313.684625</td>\n",
       "      <td>323.570275</td>\n",
       "      <td>-1.0</td>\n",
       "      <td>0</td>\n",
       "      <td>291.0</td>\n",
       "    </tr>\n",
       "  </tbody>\n",
       "</table>\n",
       "</div>\n",
       "    <div class=\"colab-df-buttons\">\n",
       "\n",
       "  <div class=\"colab-df-container\">\n",
       "    <button class=\"colab-df-convert\" onclick=\"convertToInteractive('df-0e839f18-2142-4aeb-82b4-3a9ecbf8e215')\"\n",
       "            title=\"Convert this dataframe to an interactive table.\"\n",
       "            style=\"display:none;\">\n",
       "\n",
       "  <svg xmlns=\"http://www.w3.org/2000/svg\" height=\"24px\" viewBox=\"0 -960 960 960\">\n",
       "    <path d=\"M120-120v-720h720v720H120Zm60-500h600v-160H180v160Zm220 220h160v-160H400v160Zm0 220h160v-160H400v160ZM180-400h160v-160H180v160Zm440 0h160v-160H620v160ZM180-180h160v-160H180v160Zm440 0h160v-160H620v160Z\"/>\n",
       "  </svg>\n",
       "    </button>\n",
       "\n",
       "  <style>\n",
       "    .colab-df-container {\n",
       "      display:flex;\n",
       "      gap: 12px;\n",
       "    }\n",
       "\n",
       "    .colab-df-convert {\n",
       "      background-color: #E8F0FE;\n",
       "      border: none;\n",
       "      border-radius: 50%;\n",
       "      cursor: pointer;\n",
       "      display: none;\n",
       "      fill: #1967D2;\n",
       "      height: 32px;\n",
       "      padding: 0 0 0 0;\n",
       "      width: 32px;\n",
       "    }\n",
       "\n",
       "    .colab-df-convert:hover {\n",
       "      background-color: #E2EBFA;\n",
       "      box-shadow: 0px 1px 2px rgba(60, 64, 67, 0.3), 0px 1px 3px 1px rgba(60, 64, 67, 0.15);\n",
       "      fill: #174EA6;\n",
       "    }\n",
       "\n",
       "    .colab-df-buttons div {\n",
       "      margin-bottom: 4px;\n",
       "    }\n",
       "\n",
       "    [theme=dark] .colab-df-convert {\n",
       "      background-color: #3B4455;\n",
       "      fill: #D2E3FC;\n",
       "    }\n",
       "\n",
       "    [theme=dark] .colab-df-convert:hover {\n",
       "      background-color: #434B5C;\n",
       "      box-shadow: 0px 1px 3px 1px rgba(0, 0, 0, 0.15);\n",
       "      filter: drop-shadow(0px 1px 2px rgba(0, 0, 0, 0.3));\n",
       "      fill: #FFFFFF;\n",
       "    }\n",
       "  </style>\n",
       "\n",
       "    <script>\n",
       "      const buttonEl =\n",
       "        document.querySelector('#df-0e839f18-2142-4aeb-82b4-3a9ecbf8e215 button.colab-df-convert');\n",
       "      buttonEl.style.display =\n",
       "        google.colab.kernel.accessAllowed ? 'block' : 'none';\n",
       "\n",
       "      async function convertToInteractive(key) {\n",
       "        const element = document.querySelector('#df-0e839f18-2142-4aeb-82b4-3a9ecbf8e215');\n",
       "        const dataTable =\n",
       "          await google.colab.kernel.invokeFunction('convertToInteractive',\n",
       "                                                    [key], {});\n",
       "        if (!dataTable) return;\n",
       "\n",
       "        const docLinkHtml = 'Like what you see? Visit the ' +\n",
       "          '<a target=\"_blank\" href=https://colab.research.google.com/notebooks/data_table.ipynb>data table notebook</a>'\n",
       "          + ' to learn more about interactive tables.';\n",
       "        element.innerHTML = '';\n",
       "        dataTable['output_type'] = 'display_data';\n",
       "        await google.colab.output.renderOutput(dataTable, element);\n",
       "        const docLink = document.createElement('div');\n",
       "        docLink.innerHTML = docLinkHtml;\n",
       "        element.appendChild(docLink);\n",
       "      }\n",
       "    </script>\n",
       "  </div>\n",
       "\n",
       "\n",
       "<div id=\"df-88f52e46-e577-4435-9a11-5a0ffdc7431a\">\n",
       "  <button class=\"colab-df-quickchart\" onclick=\"quickchart('df-88f52e46-e577-4435-9a11-5a0ffdc7431a')\"\n",
       "            title=\"Suggest charts\"\n",
       "            style=\"display:none;\">\n",
       "\n",
       "<svg xmlns=\"http://www.w3.org/2000/svg\" height=\"24px\"viewBox=\"0 0 24 24\"\n",
       "     width=\"24px\">\n",
       "    <g>\n",
       "        <path d=\"M19 3H5c-1.1 0-2 .9-2 2v14c0 1.1.9 2 2 2h14c1.1 0 2-.9 2-2V5c0-1.1-.9-2-2-2zM9 17H7v-7h2v7zm4 0h-2V7h2v10zm4 0h-2v-4h2v4z\"/>\n",
       "    </g>\n",
       "</svg>\n",
       "  </button>\n",
       "\n",
       "<style>\n",
       "  .colab-df-quickchart {\n",
       "      --bg-color: #E8F0FE;\n",
       "      --fill-color: #1967D2;\n",
       "      --hover-bg-color: #E2EBFA;\n",
       "      --hover-fill-color: #174EA6;\n",
       "      --disabled-fill-color: #AAA;\n",
       "      --disabled-bg-color: #DDD;\n",
       "  }\n",
       "\n",
       "  [theme=dark] .colab-df-quickchart {\n",
       "      --bg-color: #3B4455;\n",
       "      --fill-color: #D2E3FC;\n",
       "      --hover-bg-color: #434B5C;\n",
       "      --hover-fill-color: #FFFFFF;\n",
       "      --disabled-bg-color: #3B4455;\n",
       "      --disabled-fill-color: #666;\n",
       "  }\n",
       "\n",
       "  .colab-df-quickchart {\n",
       "    background-color: var(--bg-color);\n",
       "    border: none;\n",
       "    border-radius: 50%;\n",
       "    cursor: pointer;\n",
       "    display: none;\n",
       "    fill: var(--fill-color);\n",
       "    height: 32px;\n",
       "    padding: 0;\n",
       "    width: 32px;\n",
       "  }\n",
       "\n",
       "  .colab-df-quickchart:hover {\n",
       "    background-color: var(--hover-bg-color);\n",
       "    box-shadow: 0 1px 2px rgba(60, 64, 67, 0.3), 0 1px 3px 1px rgba(60, 64, 67, 0.15);\n",
       "    fill: var(--button-hover-fill-color);\n",
       "  }\n",
       "\n",
       "  .colab-df-quickchart-complete:disabled,\n",
       "  .colab-df-quickchart-complete:disabled:hover {\n",
       "    background-color: var(--disabled-bg-color);\n",
       "    fill: var(--disabled-fill-color);\n",
       "    box-shadow: none;\n",
       "  }\n",
       "\n",
       "  .colab-df-spinner {\n",
       "    border: 2px solid var(--fill-color);\n",
       "    border-color: transparent;\n",
       "    border-bottom-color: var(--fill-color);\n",
       "    animation:\n",
       "      spin 1s steps(1) infinite;\n",
       "  }\n",
       "\n",
       "  @keyframes spin {\n",
       "    0% {\n",
       "      border-color: transparent;\n",
       "      border-bottom-color: var(--fill-color);\n",
       "      border-left-color: var(--fill-color);\n",
       "    }\n",
       "    20% {\n",
       "      border-color: transparent;\n",
       "      border-left-color: var(--fill-color);\n",
       "      border-top-color: var(--fill-color);\n",
       "    }\n",
       "    30% {\n",
       "      border-color: transparent;\n",
       "      border-left-color: var(--fill-color);\n",
       "      border-top-color: var(--fill-color);\n",
       "      border-right-color: var(--fill-color);\n",
       "    }\n",
       "    40% {\n",
       "      border-color: transparent;\n",
       "      border-right-color: var(--fill-color);\n",
       "      border-top-color: var(--fill-color);\n",
       "    }\n",
       "    60% {\n",
       "      border-color: transparent;\n",
       "      border-right-color: var(--fill-color);\n",
       "    }\n",
       "    80% {\n",
       "      border-color: transparent;\n",
       "      border-right-color: var(--fill-color);\n",
       "      border-bottom-color: var(--fill-color);\n",
       "    }\n",
       "    90% {\n",
       "      border-color: transparent;\n",
       "      border-bottom-color: var(--fill-color);\n",
       "    }\n",
       "  }\n",
       "</style>\n",
       "\n",
       "  <script>\n",
       "    async function quickchart(key) {\n",
       "      const quickchartButtonEl =\n",
       "        document.querySelector('#' + key + ' button');\n",
       "      quickchartButtonEl.disabled = true;  // To prevent multiple clicks.\n",
       "      quickchartButtonEl.classList.add('colab-df-spinner');\n",
       "      try {\n",
       "        const charts = await google.colab.kernel.invokeFunction(\n",
       "            'suggestCharts', [key], {});\n",
       "      } catch (error) {\n",
       "        console.error('Error during call to suggestCharts:', error);\n",
       "      }\n",
       "      quickchartButtonEl.classList.remove('colab-df-spinner');\n",
       "      quickchartButtonEl.classList.add('colab-df-quickchart-complete');\n",
       "    }\n",
       "    (() => {\n",
       "      let quickchartButtonEl =\n",
       "        document.querySelector('#df-88f52e46-e577-4435-9a11-5a0ffdc7431a button');\n",
       "      quickchartButtonEl.style.display =\n",
       "        google.colab.kernel.accessAllowed ? 'block' : 'none';\n",
       "    })();\n",
       "  </script>\n",
       "</div>\n",
       "\n",
       "    </div>\n",
       "  </div>\n"
      ],
      "text/plain": [
       "             Open   High    Low  Close      Amount        RSI        EMAF  \\\n",
       "Date                                                                        \n",
       "2023-01-23  306.0  306.0  298.0  298.0  24565342.6  43.599759  306.070998   \n",
       "2023-01-24  298.0  304.0  294.0  303.0  11070832.8  47.113997  305.778522   \n",
       "2023-01-25  303.0  303.0  297.5  298.0  12482789.0  44.165526  305.037711   \n",
       "2023-01-26  298.0  300.0  295.0  296.0   7323075.0  43.011916  304.176976   \n",
       "2023-01-29  297.0  297.8  293.0  294.0  11046697.3  41.840961  303.207741   \n",
       "\n",
       "                  EMAM        EMAS  Target  TargetClass  TargetNextClose  \n",
       "Date                                                                      \n",
       "2023-01-23  315.017845  324.987405     5.0            1            303.0  \n",
       "2023-01-24  314.779868  324.696182    -5.0            0            298.0  \n",
       "2023-01-25  314.447593  324.342590    -2.0            0            296.0  \n",
       "2023-01-26  314.082294  323.967191    -3.0            0            294.0  \n",
       "2023-01-29  313.684625  323.570275    -1.0            0            291.0  "
      ]
     },
     "execution_count": 16,
     "metadata": {},
     "output_type": "execute_result"
    }
   ],
   "source": [
    "df.tail()"
   ]
  },
  {
   "cell_type": "markdown",
   "metadata": {
    "id": "nViV3CpAx-_6"
   },
   "source": [
    "### Sequence Generation and Data Normalization"
   ]
  },
  {
   "cell_type": "code",
   "execution_count": null,
   "metadata": {
    "id": "Cqk4CzqrrJMf"
   },
   "outputs": [],
   "source": [
    "# Import MinMaxScaler\n",
    "from sklearn.preprocessing import MinMaxScaler"
   ]
  },
  {
   "cell_type": "code",
   "execution_count": null,
   "metadata": {
    "id": "U7DcaY8-yC2z"
   },
   "outputs": [],
   "source": [
    "def generate_sequence(df, sequence_length=30):\n",
    "  # Initialize scaler\n",
    "  scaler = MinMaxScaler(feature_range=(0, 1))\n",
    "  df_scaled = scaler.fit_transform(df)\n",
    "\n",
    "  X = []\n",
    "  for j in range(9):\n",
    "    X.append([])\n",
    "    for i in range(sequence_length, df_scaled.shape[0]):\n",
    "      X[j].append(df_scaled[i-sequence_length:i, j])\n",
    "\n",
    "  # Move Axis\n",
    "  X = np.moveaxis(X, [0], [2])\n",
    "  X, yi = np.array(X), np.array(df_scaled[sequence_length:, -1])\n",
    "  y = np.reshape(yi, (len(yi), 1))\n",
    "\n",
    "  return X, y, scaler"
   ]
  },
  {
   "cell_type": "code",
   "execution_count": null,
   "metadata": {
    "colab": {
     "base_uri": "https://localhost:8080/"
    },
    "id": "zPqwCQGMsTLQ",
    "outputId": "1cbaa526-2c26-438a-cac4-924519a4a98e"
   },
   "outputs": [
    {
     "data": {
      "text/plain": [
       "((2213, 30, 9), (2213, 1))"
      ]
     },
     "execution_count": 20,
     "metadata": {},
     "output_type": "execute_result"
    }
   ],
   "source": [
    "X, y, scaler = generate_sequence(df)\n",
    "X.shape, y.shape"
   ]
  },
  {
   "cell_type": "markdown",
   "metadata": {
    "id": "F1iZ6uvMwhBq"
   },
   "source": [
    "# Train-test split"
   ]
  },
  {
   "cell_type": "code",
   "execution_count": null,
   "metadata": {
    "id": "2EFVVuDteFct"
   },
   "outputs": [],
   "source": [
    "def split_data(X, y):\n",
    "  limit = int(len(X) * 0.8)\n",
    "  X_train, X_test = X[:limit], X[limit:]\n",
    "  y_train, y_test = y[:limit], y[limit:]\n",
    "\n",
    "  return X_train, X_test, y_train, y_test"
   ]
  },
  {
   "cell_type": "code",
   "execution_count": null,
   "metadata": {
    "colab": {
     "base_uri": "https://localhost:8080/"
    },
    "id": "CRqyH77vl73C",
    "outputId": "248c8a22-c34e-435f-dc87-fc9ee001917d"
   },
   "outputs": [
    {
     "data": {
      "text/plain": [
       "('Training set size: (1770, 30, 9)', 'Testing set size: (443, 30, 9)')"
      ]
     },
     "execution_count": 22,
     "metadata": {},
     "output_type": "execute_result"
    }
   ],
   "source": [
    "X_train, X_test, y_train, y_test = split_data(X, y)\n",
    "f\"Training set size: {X_train.shape}\", f\"Testing set size: {X_test.shape}\""
   ]
  },
  {
   "cell_type": "markdown",
   "metadata": {
    "id": "APJl-1Q_WXmG"
   },
   "source": [
    "# Model Creation and Training"
   ]
  },
  {
   "cell_type": "code",
   "execution_count": null,
   "metadata": {
    "id": "FQW-04oaYQUG"
   },
   "outputs": [],
   "source": [
    "def build_model(sequence_length=30):\n",
    "  # Creating the sequential model\n",
    "  model = Sequential([\n",
    "      # Input layer and LSTM layer with 256 units\n",
    "      InputLayer(shape=(sequence_length, 9)),\n",
    "      LSTM(256, return_sequences=False, name='lstm_layer'),\n",
    "      Dense(128, name='dense_layer'),\n",
    "      Dense(1, name='output_layer'),\n",
    "      # Add a linear activation function\n",
    "      Activation('linear', name='activation_layer')\n",
    "  ])\n",
    "\n",
    "  # Compile the model with optimizer\n",
    "  optimizer = Adam()\n",
    "  model.compile(optimizer=optimizer, loss='mse')\n",
    "\n",
    "  # Model summary\n",
    "  model.summary()\n",
    "\n",
    "  return model"
   ]
  },
  {
   "cell_type": "code",
   "execution_count": null,
   "metadata": {
    "id": "o0XzMyMaSjAx"
   },
   "outputs": [],
   "source": [
    "import tensorflow as tf"
   ]
  },
  {
   "cell_type": "code",
   "execution_count": null,
   "metadata": {
    "id": "vciwQpqyuhIC"
   },
   "outputs": [],
   "source": [
    "def build_model(sequence_length=30):\n",
    "    # Creating the sequential model\n",
    "    model = Sequential([\n",
    "        # Input layer and LSTM layers\n",
    "        InputLayer(shape=(sequence_length, 9)),\n",
    "        LSTM(256, return_sequences=True, name='lstm_layer1'),\n",
    "        LSTM(128, return_sequences=True, name='lstm_layer2'),\n",
    "        LSTM(64, return_sequences=False, name='lstm_layer3'),\n",
    "        Dense(128, activation='relu', name='dense_layer1'),\n",
    "        Dense(64, activation='relu', name='dense_layer2'),\n",
    "        Dense(1, name='output_layer'),\n",
    "        # Change activation function to 'tanh'\n",
    "        Activation('tanh', name='activation_layer')\n",
    "    ])\n",
    "\n",
    "    # Change the optimizer to Adam with a custom learning rate\n",
    "    optimizer = Adam(learning_rate=0.001)\n",
    "\n",
    "    # Change the loss function to Huber loss (less sensitive to outliers than MSE)\n",
    "    model.compile(optimizer=optimizer, loss=tf.keras.losses.Huber(), metrics=['mae'])\n",
    "\n",
    "    return model"
   ]
  },
  {
   "cell_type": "code",
   "execution_count": null,
   "metadata": {
    "id": "hR3ccYZCYSrL"
   },
   "outputs": [],
   "source": [
    "# Build the model\n",
    "model = build_model()"
   ]
  },
  {
   "cell_type": "code",
   "execution_count": null,
   "metadata": {
    "colab": {
     "base_uri": "https://localhost:8080/"
    },
    "id": "Q5Lf_3MvnoXj",
    "outputId": "78e333ea-14c9-4e08-e6e9-d8feb896419c"
   },
   "outputs": [
    {
     "name": "stdout",
     "output_type": "stream",
     "text": [
      "Epoch 1/50\n",
      "\u001b[1m71/71\u001b[0m \u001b[32m━━━━━━━━━━━━━━━━━━━━\u001b[0m\u001b[37m\u001b[0m \u001b[1m17s\u001b[0m 153ms/step - loss: 0.0135 - mae: 0.0984 - val_loss: 1.8397e-04 - val_mae: 0.0132\n",
      "Epoch 2/50\n",
      "\u001b[1m71/71\u001b[0m \u001b[32m━━━━━━━━━━━━━━━━━━━━\u001b[0m\u001b[37m\u001b[0m \u001b[1m12s\u001b[0m 171ms/step - loss: 0.0016 - mae: 0.0292 - val_loss: 2.2111e-04 - val_mae: 0.0145\n",
      "Epoch 3/50\n",
      "\u001b[1m71/71\u001b[0m \u001b[32m━━━━━━━━━━━━━━━━━━━━\u001b[0m\u001b[37m\u001b[0m \u001b[1m19s\u001b[0m 142ms/step - loss: 0.0015 - mae: 0.0310 - val_loss: 4.3376e-04 - val_mae: 0.0219\n",
      "Epoch 4/50\n",
      "\u001b[1m71/71\u001b[0m \u001b[32m━━━━━━━━━━━━━━━━━━━━\u001b[0m\u001b[37m\u001b[0m \u001b[1m11s\u001b[0m 153ms/step - loss: 0.0010 - mae: 0.0269 - val_loss: 1.9228e-04 - val_mae: 0.0118\n",
      "Epoch 5/50\n",
      "\u001b[1m71/71\u001b[0m \u001b[32m━━━━━━━━━━━━━━━━━━━━\u001b[0m\u001b[37m\u001b[0m \u001b[1m19s\u001b[0m 136ms/step - loss: 6.6632e-04 - mae: 0.0204 - val_loss: 1.1635e-04 - val_mae: 0.0104\n",
      "Epoch 6/50\n",
      "\u001b[1m71/71\u001b[0m \u001b[32m━━━━━━━━━━━━━━━━━━━━\u001b[0m\u001b[37m\u001b[0m \u001b[1m11s\u001b[0m 154ms/step - loss: 7.9103e-04 - mae: 0.0227 - val_loss: 1.1130e-04 - val_mae: 0.0105\n",
      "Epoch 7/50\n",
      "\u001b[1m71/71\u001b[0m \u001b[32m━━━━━━━━━━━━━━━━━━━━\u001b[0m\u001b[37m\u001b[0m \u001b[1m11s\u001b[0m 154ms/step - loss: 6.5591e-04 - mae: 0.0213 - val_loss: 1.4540e-04 - val_mae: 0.0108\n",
      "Epoch 8/50\n",
      "\u001b[1m71/71\u001b[0m \u001b[32m━━━━━━━━━━━━━━━━━━━━\u001b[0m\u001b[37m\u001b[0m \u001b[1m20s\u001b[0m 155ms/step - loss: 5.7094e-04 - mae: 0.0203 - val_loss: 1.1740e-04 - val_mae: 0.0106\n",
      "Epoch 9/50\n",
      "\u001b[1m71/71\u001b[0m \u001b[32m━━━━━━━━━━━━━━━━━━━━\u001b[0m\u001b[37m\u001b[0m \u001b[1m19s\u001b[0m 129ms/step - loss: 5.1406e-04 - mae: 0.0208 - val_loss: 1.2146e-04 - val_mae: 0.0108\n",
      "Epoch 10/50\n",
      "\u001b[1m71/71\u001b[0m \u001b[32m━━━━━━━━━━━━━━━━━━━━\u001b[0m\u001b[37m\u001b[0m \u001b[1m11s\u001b[0m 141ms/step - loss: 6.6895e-04 - mae: 0.0235 - val_loss: 9.4394e-05 - val_mae: 0.0094\n",
      "Epoch 11/50\n",
      "\u001b[1m71/71\u001b[0m \u001b[32m━━━━━━━━━━━━━━━━━━━━\u001b[0m\u001b[37m\u001b[0m \u001b[1m11s\u001b[0m 152ms/step - loss: 5.8996e-04 - mae: 0.0195 - val_loss: 9.5799e-05 - val_mae: 0.0096\n",
      "Epoch 12/50\n",
      "\u001b[1m71/71\u001b[0m \u001b[32m━━━━━━━━━━━━━━━━━━━━\u001b[0m\u001b[37m\u001b[0m \u001b[1m18s\u001b[0m 121ms/step - loss: 5.0345e-04 - mae: 0.0177 - val_loss: 1.1022e-04 - val_mae: 0.0099\n",
      "Epoch 13/50\n",
      "\u001b[1m71/71\u001b[0m \u001b[32m━━━━━━━━━━━━━━━━━━━━\u001b[0m\u001b[37m\u001b[0m \u001b[1m12s\u001b[0m 142ms/step - loss: 7.1310e-04 - mae: 0.0232 - val_loss: 8.7072e-05 - val_mae: 0.0090\n",
      "Epoch 14/50\n",
      "\u001b[1m71/71\u001b[0m \u001b[32m━━━━━━━━━━━━━━━━━━━━\u001b[0m\u001b[37m\u001b[0m \u001b[1m11s\u001b[0m 151ms/step - loss: 3.6600e-04 - mae: 0.0161 - val_loss: 9.1418e-05 - val_mae: 0.0090\n",
      "Epoch 15/50\n",
      "\u001b[1m71/71\u001b[0m \u001b[32m━━━━━━━━━━━━━━━━━━━━\u001b[0m\u001b[37m\u001b[0m \u001b[1m19s\u001b[0m 135ms/step - loss: 5.3443e-04 - mae: 0.0213 - val_loss: 1.2803e-04 - val_mae: 0.0118\n",
      "Epoch 16/50\n",
      "\u001b[1m71/71\u001b[0m \u001b[32m━━━━━━━━━━━━━━━━━━━━\u001b[0m\u001b[37m\u001b[0m \u001b[1m11s\u001b[0m 151ms/step - loss: 4.6601e-04 - mae: 0.0184 - val_loss: 9.6430e-05 - val_mae: 0.0103\n",
      "Epoch 17/50\n",
      "\u001b[1m71/71\u001b[0m \u001b[32m━━━━━━━━━━━━━━━━━━━━\u001b[0m\u001b[37m\u001b[0m \u001b[1m19s\u001b[0m 123ms/step - loss: 4.0983e-04 - mae: 0.0176 - val_loss: 2.4222e-04 - val_mae: 0.0169\n",
      "Epoch 18/50\n",
      "\u001b[1m71/71\u001b[0m \u001b[32m━━━━━━━━━━━━━━━━━━━━\u001b[0m\u001b[37m\u001b[0m \u001b[1m12s\u001b[0m 152ms/step - loss: 4.0738e-04 - mae: 0.0174 - val_loss: 1.0108e-04 - val_mae: 0.0108\n",
      "Epoch 19/50\n",
      "\u001b[1m71/71\u001b[0m \u001b[32m━━━━━━━━━━━━━━━━━━━━\u001b[0m\u001b[37m\u001b[0m \u001b[1m14s\u001b[0m 201ms/step - loss: 3.3638e-04 - mae: 0.0157 - val_loss: 8.7503e-05 - val_mae: 0.0089\n",
      "Epoch 20/50\n",
      "\u001b[1m71/71\u001b[0m \u001b[32m━━━━━━━━━━━━━━━━━━━━\u001b[0m\u001b[37m\u001b[0m \u001b[1m17s\u001b[0m 151ms/step - loss: 3.9111e-04 - mae: 0.0176 - val_loss: 1.5584e-04 - val_mae: 0.0133\n",
      "Epoch 21/50\n",
      "\u001b[1m71/71\u001b[0m \u001b[32m━━━━━━━━━━━━━━━━━━━━\u001b[0m\u001b[37m\u001b[0m \u001b[1m20s\u001b[0m 138ms/step - loss: 3.4422e-04 - mae: 0.0159 - val_loss: 1.3914e-04 - val_mae: 0.0124\n",
      "Epoch 22/50\n",
      "\u001b[1m71/71\u001b[0m \u001b[32m━━━━━━━━━━━━━━━━━━━━\u001b[0m\u001b[37m\u001b[0m \u001b[1m11s\u001b[0m 153ms/step - loss: 2.8561e-04 - mae: 0.0147 - val_loss: 1.1721e-04 - val_mae: 0.0108\n",
      "Epoch 23/50\n",
      "\u001b[1m71/71\u001b[0m \u001b[32m━━━━━━━━━━━━━━━━━━━━\u001b[0m\u001b[37m\u001b[0m \u001b[1m10s\u001b[0m 136ms/step - loss: 3.4097e-04 - mae: 0.0144 - val_loss: 8.0946e-05 - val_mae: 0.0089\n",
      "Epoch 24/50\n",
      "\u001b[1m71/71\u001b[0m \u001b[32m━━━━━━━━━━━━━━━━━━━━\u001b[0m\u001b[37m\u001b[0m \u001b[1m10s\u001b[0m 133ms/step - loss: 3.7803e-04 - mae: 0.0159 - val_loss: 1.3917e-04 - val_mae: 0.0115\n",
      "Epoch 25/50\n",
      "\u001b[1m71/71\u001b[0m \u001b[32m━━━━━━━━━━━━━━━━━━━━\u001b[0m\u001b[37m\u001b[0m \u001b[1m12s\u001b[0m 154ms/step - loss: 3.9888e-04 - mae: 0.0174 - val_loss: 7.8302e-05 - val_mae: 0.0085\n",
      "Epoch 26/50\n",
      "\u001b[1m71/71\u001b[0m \u001b[32m━━━━━━━━━━━━━━━━━━━━\u001b[0m\u001b[37m\u001b[0m \u001b[1m10s\u001b[0m 146ms/step - loss: 2.2355e-04 - mae: 0.0129 - val_loss: 1.0438e-04 - val_mae: 0.0096\n",
      "Epoch 27/50\n",
      "\u001b[1m71/71\u001b[0m \u001b[32m━━━━━━━━━━━━━━━━━━━━\u001b[0m\u001b[37m\u001b[0m \u001b[1m21s\u001b[0m 152ms/step - loss: 3.4958e-04 - mae: 0.0168 - val_loss: 1.0041e-04 - val_mae: 0.0107\n",
      "Epoch 28/50\n",
      "\u001b[1m71/71\u001b[0m \u001b[32m━━━━━━━━━━━━━━━━━━━━\u001b[0m\u001b[37m\u001b[0m \u001b[1m19s\u001b[0m 127ms/step - loss: 2.6175e-04 - mae: 0.0146 - val_loss: 1.1352e-04 - val_mae: 0.0099\n",
      "Epoch 29/50\n",
      "\u001b[1m71/71\u001b[0m \u001b[32m━━━━━━━━━━━━━━━━━━━━\u001b[0m\u001b[37m\u001b[0m \u001b[1m10s\u001b[0m 130ms/step - loss: 2.4589e-04 - mae: 0.0133 - val_loss: 9.0813e-05 - val_mae: 0.0100\n",
      "Epoch 30/50\n",
      "\u001b[1m71/71\u001b[0m \u001b[32m━━━━━━━━━━━━━━━━━━━━\u001b[0m\u001b[37m\u001b[0m \u001b[1m12s\u001b[0m 153ms/step - loss: 3.4280e-04 - mae: 0.0165 - val_loss: 1.2861e-04 - val_mae: 0.0106\n",
      "Epoch 31/50\n",
      "\u001b[1m71/71\u001b[0m \u001b[32m━━━━━━━━━━━━━━━━━━━━\u001b[0m\u001b[37m\u001b[0m \u001b[1m18s\u001b[0m 122ms/step - loss: 2.8856e-04 - mae: 0.0155 - val_loss: 1.2642e-04 - val_mae: 0.0112\n",
      "Epoch 32/50\n",
      "\u001b[1m71/71\u001b[0m \u001b[32m━━━━━━━━━━━━━━━━━━━━\u001b[0m\u001b[37m\u001b[0m \u001b[1m11s\u001b[0m 154ms/step - loss: 3.5058e-04 - mae: 0.0170 - val_loss: 9.9372e-05 - val_mae: 0.0095\n",
      "Epoch 33/50\n",
      "\u001b[1m71/71\u001b[0m \u001b[32m━━━━━━━━━━━━━━━━━━━━\u001b[0m\u001b[37m\u001b[0m \u001b[1m19s\u001b[0m 136ms/step - loss: 2.2913e-04 - mae: 0.0133 - val_loss: 1.5987e-04 - val_mae: 0.0122\n",
      "Epoch 34/50\n",
      "\u001b[1m71/71\u001b[0m \u001b[32m━━━━━━━━━━━━━━━━━━━━\u001b[0m\u001b[37m\u001b[0m \u001b[1m10s\u001b[0m 141ms/step - loss: 2.2783e-04 - mae: 0.0134 - val_loss: 1.6114e-04 - val_mae: 0.0119\n",
      "Epoch 35/50\n",
      "\u001b[1m71/71\u001b[0m \u001b[32m━━━━━━━━━━━━━━━━━━━━\u001b[0m\u001b[37m\u001b[0m \u001b[1m11s\u001b[0m 154ms/step - loss: 2.0359e-04 - mae: 0.0126 - val_loss: 1.5546e-04 - val_mae: 0.0114\n"
     ]
    }
   ],
   "source": [
    "# Train the model with early stopping\n",
    "early_stopping = EarlyStopping(monitor='val_loss', patience=10, restore_best_weights=True)\n",
    "history = model.fit(X_train, y_train, epochs=50, batch_size=20, validation_split=0.2, callbacks=[early_stopping])"
   ]
  },
  {
   "cell_type": "code",
   "execution_count": null,
   "metadata": {
    "colab": {
     "base_uri": "https://localhost:8080/"
    },
    "id": "L3LYPbiyaEIZ",
    "outputId": "cabd1153-2c19-445c-b98a-4187a7b12d7c"
   },
   "outputs": [
    {
     "name": "stdout",
     "output_type": "stream",
     "text": [
      "\u001b[1m14/14\u001b[0m \u001b[32m━━━━━━━━━━━━━━━━━━━━\u001b[0m\u001b[37m\u001b[0m \u001b[1m2s\u001b[0m 83ms/step\n",
      "[0.11892361] [0.11741537]\n",
      "[0.12413194] [0.1188456]\n",
      "[0.1328125] [0.11859876]\n",
      "[0.14149306] [0.12062418]\n",
      "[0.13975694] [0.12605776]\n",
      "[0.14409722] [0.13532981]\n",
      "[0.14409722] [0.13880776]\n",
      "[0.14409722] [0.14109586]\n",
      "[0.14496528] [0.14277697]\n",
      "[0.14322917] [0.14431278]\n",
      "[0.14409722] [0.14761388]\n",
      "[0.15711806] [0.1481783]\n",
      "[0.1640625] [0.14845711]\n",
      "[0.15711806] [0.15569901]\n",
      "[0.14409722] [0.16529188]\n",
      "[0.14409722] [0.16244282]\n",
      "[0.13802083] [0.14593436]\n",
      "[0.13715278] [0.13754742]\n",
      "[0.125] [0.13345177]\n",
      "[0.12326389] [0.13342296]\n"
     ]
    }
   ],
   "source": [
    "# Make Predictions\n",
    "y_pred = model.predict(X_test)\n",
    "for i in range(20):\n",
    "  print(y_test[i], y_pred[i])"
   ]
  },
  {
   "cell_type": "code",
   "execution_count": null,
   "metadata": {
    "colab": {
     "base_uri": "https://localhost:8080/",
     "height": 564
    },
    "id": "Loc2eg61aVST",
    "outputId": "2727346e-9df8-4d62-f22a-6fc94e3f6cb4"
   },
   "outputs": [
    {
     "data": {
      "image/png": "[encoded data removed]",
      "text/plain": [
       "<Figure size 1200x600 with 1 Axes>"
      ]
     },
     "metadata": {},
     "output_type": "display_data"
    }
   ],
   "source": [
    "# Plot the predictions\n",
    "plt.figure(figsize=(12, 6))\n",
    "plt.plot(y_test, color='black', label='Actual')\n",
    "plt.plot(y_pred, color='green', label='Predicted')\n",
    "plt.title('Stock Price Prediction')\n",
    "plt.xlabel('Time')\n",
    "plt.ylabel('Price')\n",
    "plt.legend()\n",
    "plt.show()"
   ]
  },
  {
   "cell_type": "code",
   "execution_count": null,
   "metadata": {
    "colab": {
     "base_uri": "https://localhost:8080/",
     "height": 564
    },
    "id": "hVMYBibYaavH",
    "outputId": "8cb7fe3b-a973-4c8e-beda-88187b1a2038"
   },
   "outputs": [
    {
     "data": {
      "image/png": "[encoded data removed]",
      "text/plain": [
       "<Figure size 1200x600 with 1 Axes>"
      ]
     },
     "metadata": {},
     "output_type": "display_data"
    }
   ],
   "source": [
    "# Training and Validation loss visualization\n",
    "train_loss = history.history['loss']\n",
    "val_loss = history.history['val_loss']\n",
    "\n",
    "epochs = range(1, len(train_loss) + 1)\n",
    "plt.figure(figsize=(12, 6))\n",
    "plt.plot(epochs, train_loss, 'b', label='Training Loss')\n",
    "plt.plot(epochs, val_loss, 'r', label='Validation Loss')\n",
    "plt.title('Training and Validation Loss')\n",
    "plt.xlabel('Epochs')\n",
    "plt.ylabel('Loss')\n",
    "plt.legend()\n",
    "plt.show()"
   ]
  },
  {
   "cell_type": "code",
   "execution_count": null,
   "metadata": {
    "colab": {
     "base_uri": "https://localhost:8080/"
    },
    "id": "4_9PwUhF8rCU",
    "outputId": "4a403aa5-4280-4c47-859b-180e6189cb80"
   },
   "outputs": [
    {
     "name": "stdout",
     "output_type": "stream",
     "text": [
      "y_test shape: (443, 1)\n",
      "y_pred shape: (443, 1)\n",
      "scaler.min_ shape: (12,)\n",
      "scaler.scale_ shape: (12,)\n"
     ]
    }
   ],
   "source": [
    "print(\"y_test shape:\", y_test.shape)\n",
    "print(\"y_pred shape:\", y_pred.shape)\n",
    "print(\"scaler.min_ shape:\", scaler.min_.shape)\n",
    "print(\"scaler.scale_ shape:\", scaler.scale_.shape)"
   ]
  },
  {
   "cell_type": "code",
   "execution_count": null,
   "metadata": {
    "id": "9Tg5bqyJeUJv"
   },
   "outputs": [],
   "source": [
    "y_test_scaled = np.array(y_test).reshape(-1, 1)\n",
    "y_pred_scaled = np.array(y_pred).reshape(-1, 1)"
   ]
  },
  {
   "cell_type": "code",
   "execution_count": null,
   "metadata": {
    "id": "9w0Tk3K720br"
   },
   "outputs": [],
   "source": [
    "num_features = scaler.scale_.shape[0]\n",
    "dummy_array = np.zeros((len(y_test_scaled), num_features))"
   ]
  },
  {
   "cell_type": "code",
   "execution_count": null,
   "metadata": {
    "id": "qXZDHNvW93dj"
   },
   "outputs": [],
   "source": [
    "dummy_array[:, -1] = y_test_scaled.flatten()\n",
    "y_test_actual = scaler.inverse_transform(dummy_array)[:, -1]\n",
    "\n",
    "dummy_array[:, -1] = y_pred_scaled.flatten()\n",
    "y_pred_actual = scaler.inverse_transform(dummy_array)[:, -1]"
   ]
  },
  {
   "cell_type": "markdown",
   "metadata": {
    "id": "0oWcWbpx9jNy"
   },
   "source": [
    "### Evaluation Metrics"
   ]
  },
  {
   "cell_type": "code",
   "execution_count": null,
   "metadata": {
    "id": "HxNRnTWuArVY"
   },
   "outputs": [],
   "source": [
    "def evaluate_model(y_test_actual, y_pred_actual):\n",
    "  # Print some values to verify\n",
    "  for x, y in zip(y_test_actual[-20:], y_pred_actual[-20:]):\n",
    "    print(f\"Actual: [{x.round(2)}] | Predicted: [{y.round(2)}]\")\n",
    "  print(\"=\"*100)\n",
    "\n",
    "  mae = mean_absolute_error(y_test, y_pred)\n",
    "  mse = mean_squared_error(y_test, y_pred)\n",
    "  rmse = np.sqrt(mse)\n",
    "  r2score = r2_score(y_test, y_pred)\n",
    "\n",
    "  print(f\"Mean Absolute Error: {mae}\")\n",
    "  print(f\"Mean Squared Error: {mse}\")\n",
    "  print(f\"Root Mean Squared Error: {rmse}\")\n",
    "  print(f\"R2 Score: {r2score}\")"
   ]
  },
  {
   "cell_type": "code",
   "execution_count": null,
   "metadata": {
    "colab": {
     "base_uri": "https://localhost:8080/"
    },
    "id": "02a3RPoMnvXi",
    "outputId": "4cff6568-7f44-4cea-88a8-b373f9312057"
   },
   "outputs": [
    {
     "name": "stdout",
     "output_type": "stream",
     "text": [
      "Actual: [295.0] | Predicted: [316.98]\n",
      "Actual: [302.0] | Predicted: [335.95]\n",
      "Actual: [297.0] | Predicted: [313.79]\n",
      "Actual: [297.3] | Predicted: [294.58]\n",
      "Actual: [298.0] | Predicted: [288.08]\n",
      "Actual: [303.0] | Predicted: [287.82]\n",
      "Actual: [300.0] | Predicted: [289.8]\n",
      "Actual: [298.8] | Predicted: [293.48]\n",
      "Actual: [311.9] | Predicted: [295.96]\n",
      "Actual: [316.5] | Predicted: [295.95]\n",
      "Actual: [307.5] | Predicted: [298.59]\n",
      "Actual: [306.8] | Predicted: [303.68]\n",
      "Actual: [300.3] | Predicted: [303.81]\n",
      "Actual: [303.1] | Predicted: [300.94]\n",
      "Actual: [298.0] | Predicted: [296.33]\n",
      "Actual: [303.0] | Predicted: [294.86]\n",
      "Actual: [298.0] | Predicted: [293.73]\n",
      "Actual: [296.0] | Predicted: [294.75]\n",
      "Actual: [294.0] | Predicted: [294.96]\n",
      "Actual: [291.0] | Predicted: [294.07]\n",
      "====================================================================================================\n",
      "Mean Absolute Error: 0.008953460770772907\n",
      "Mean Squared Error: 0.00014163173565423547\n",
      "Root Mean Squared Error: 0.01190091322774162\n",
      "R2 Score: 0.9727070534077403\n"
     ]
    }
   ],
   "source": [
    "evaluate_model(y_test_actual, y_pred_actual)"
   ]
  },
  {
   "cell_type": "code",
   "execution_count": null,
   "metadata": {
    "id": "9GY88x_I-5lc"
   },
   "outputs": [],
   "source": []
  }
 ],
 "metadata": {
  "colab": {
   "gpuType": "T4",
   "provenance": []
  },
  "kernelspec": {
   "display_name": "venv",
   "language": "python",
   "name": "python3"
  },
  "language_info": {
   "name": "python",
   "version": "3.12.4"
  }
 },
 "nbformat": 4,
 "nbformat_minor": 0
}
